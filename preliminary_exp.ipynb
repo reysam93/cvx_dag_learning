{
 "cells": [
  {
   "cell_type": "markdown",
   "metadata": {},
   "source": []
  },
  {
   "cell_type": "code",
   "execution_count": null,
   "metadata": {},
   "outputs": [],
   "source": [
    "import numpy as np\n",
    "from numpy import linalg as la\n",
    "import matplotlib.pyplot as plt\n",
    "from sklearn.metrics import f1_score\n",
    "import cvxpy as cp\n",
    "import random\n",
    "import time\n",
    "import os\n",
    "from joblib import Parallel, delayed\n",
    "\n",
    "from src.model import Nonneg_dagma, MetMulDagma, BarrierDagma\n",
    "import src.utils as utils\n",
    "\n",
    "from baselines.colide import colide_ev\n",
    "from baselines.dagma_linear import DAGMA_linear\n",
    "from baselines.notears import notears_linear\n",
    "\n",
    "SEED = 10\n",
    "N_CPUS = os.cpu_count() // 2\n",
    "\n",
    "# Set CPU limit for np\n",
    "# os.environ[\"OPENBLAS_NUM_THREADS\"] = str(N_CPUS)\n",
    "# os.environ[\"MKL_NUM_THREADS\"] = str(N_CPUS)\n",
    "# os.environ[\"NUMBA_NUM_THREADS\"] = str(N_CPUS)\n",
    "# os.environ[\"OMP_NUM_THREADS\"] = str(N_CPUS)\n",
    "# os.environ[\"NUMEXP_NUM_THREADS\"] = str(N_CPUS)\n",
    "# os.environ[\"MKL_NUM_THREADS\"] = str(N_CPUS)\n",
    "# os.environ[\"OMP_NUM_THREADS\"] = str(N_CPUS)\n",
    "\n",
    "np.random.seed(SEED)\n",
    "random.seed(SEED)"
   ]
  },
  {
   "cell_type": "code",
   "execution_count": null,
   "metadata": {},
   "outputs": [],
   "source": [
    "def get_lamb_value(n_nodes, n_samples, times=1):\n",
    "    return np.sqrt(np.log(n_nodes) / n_samples) * times \n",
    "\n",
    "def run_exps(g, data_p, exps, thr=.2, verb=False):\n",
    "    A_true, _, X = utils.simulate_sem(**data_p)\n",
    "    A_true_bin = utils.to_bin(A_true, thr)\n",
    "    X_std = utils.standarize(X)\n",
    "\n",
    "    M, N = X.shape\n",
    "\n",
    "    fidelity = 1/data_p['n_samples']*la.norm(X - X @ A_true, 'fro')**2\n",
    "    fidelity_norm = 1/data_p['n_samples']*la.norm(X_std - X_std @ A_true, 'fro')**2\n",
    "\n",
    "    print(f'{g}: Fidelity: {fidelity:.3f}  -  Fidelity (norm): {fidelity_norm:.3f}')\n",
    "\n",
    "    shd, fscore, err, acyc, runtime = [np.zeros(len(exps))  for _ in range(5)]\n",
    "    for i, exp in enumerate(exps):\n",
    "        X_aux = X_std if 'standarize' in exp.keys() and exp['standarize'] else X\n",
    "\n",
    "        args = exp['args'].copy()\n",
    "        if 'fix_lamb' in exp.keys() and not exp['fix_lamb']:\n",
    "            args['lamb'] = get_lamb_value(N, M, args['lamb'])\n",
    "\n",
    "        if exp['model'] == notears_linear:\n",
    "            t_i = time.time()\n",
    "            A_est = notears_linear(X_aux, **args)\n",
    "            t_solved = time.time() - t_i\n",
    "        else:\n",
    "            model = exp['model'](**exp['init']) if 'init' in exp.keys() else exp['model']()\n",
    "            t_i = time.time()\n",
    "            model.fit(X_aux, **args)\n",
    "            t_solved = time.time() - t_i\n",
    "\n",
    "            A_est = model.W_est\n",
    "\n",
    "        A_est_bin = utils.to_bin(A_est, thr)\n",
    "        shd[i], _, _ = utils.count_accuracy(A_true_bin, A_est_bin)\n",
    "        fscore[i] = f1_score(A_true_bin.flatten(), A_est_bin.flatten())\n",
    "        err[i] = utils.compute_norm_sq_err(A_true, A_est)\n",
    "        acyc[i] = model.dagness(A_est) if hasattr(model, 'dagness') else 1\n",
    "        runtime[i] = t_solved\n",
    "\n",
    "        if verb:\n",
    "            print(f'\\t-{exp[\"leg\"]}: shd {shd[i]}  -  err: {err[i]:.3f}  -  time: {runtime[i]:.3f}')\n",
    "\n",
    "    return shd, fscore, err, acyc, runtime"
   ]
  },
  {
   "cell_type": "markdown",
   "metadata": {},
   "source": [
    "### Logarithmic barrier DAGMA Alg"
   ]
  },
  {
   "cell_type": "code",
   "execution_count": 8,
   "metadata": {},
   "outputs": [],
   "source": [
    "# ## Second set of hyperparams N = 50\n",
    "\n",
    "# lamb = get_lamb_value(N, M, 2e-2)\n",
    "# print('lamb:', lamb)\n",
    "# if norm_x:\n",
    "#     lamb = get_lamb_value(N, M, 2e-4)\n",
    "#     args = {'stepsize': 5e-1, 'alpha': 5e-3, 's': 1, 'lamb': lamb, 'iters_in': 5000,\n",
    "#             'iters_out': 10, 'tol': 1e-6, 'beta': .5, 'verb': True}\n",
    "# else:\n",
    "#     lamb = get_lamb_value(N, M, 2e-2)\n",
    "#     args = {'stepsize': 2e-2, 'alpha': .01, 's': 1, 'lamb': lamb, 'iters_in': 100,\n",
    "#             'iters_out': 100, 'tol': 1e-6, 'beta': .9, 'verb': True}\n",
    "\n",
    "\n",
    "# t_i = time.time()\n",
    "# model = BarrierDagma()\n",
    "# A_est = model.fit(X, **args, track_seq=True)\n",
    "# t_solved = time.time() - t_i\n",
    "# print(f'Solved in {t_solved:3f} seconds')\n",
    "\n",
    "# # Plot description\n",
    "# thr = .2\n",
    "# plot_convergence(model, A)\n",
    "# plot_result(A, A_est, thr)"
   ]
  },
  {
   "cell_type": "markdown",
   "metadata": {},
   "source": [
    "# Comparing models - Unit variance"
   ]
  },
  {
   "cell_type": "code",
   "execution_count": 9,
   "metadata": {},
   "outputs": [],
   "source": [
    "Exps = [\n",
    "    # Proj Grad Desc - Logdet\n",
    "    {'model': Nonneg_dagma, 'args': {'stepsize': 5e-3, 'alpha': .5, 's': 1, 'lamb': .1, 'max_iters': 20000, 'tol': 1e-5},\n",
    "     'init': {'acyclicity': 'logdet', 'primal_opt': 'fista'}, 'fix_lamb': False, 'standarize': False, 'leg': 'PGD-FISTA'},\n",
    "\n",
    "    {'model': Nonneg_dagma, 'args': {'stepsize': 5e-3, 'alpha': .5, 's': 1, 'lamb': .1, 'max_iters': 20000, 'tol': 1e-5},\n",
    "     'init': {'acyclicity': 'logdet', 'primal_opt': 'adam'}, 'fix_lamb': False, 'standarize': False, 'leg': 'PGD-Adam'},\n",
    "\n",
    "    # Method of Multipliers - Logdet\n",
    "    {'model': MetMulDagma, 'args': {'stepsize': 3e-4, 'alpha_0': .01, 'rho_0': .05, 's': 1, 'lamb': .1, 'iters_in': 40000,\n",
    "     'iters_out': 10, 'beta': 2}, 'init': {'acyclicity': 'logdet', 'primal_opt': 'pgd'}, 'standarize': False, \n",
    "     'fix_lamb': False, 'leg': 'MM'},\n",
    "    \n",
    "    {'model': MetMulDagma, 'args': {'stepsize': 5e-5, 'alpha_0': .5, 'rho_0': .5, 's': 1, 'lamb': .1, 'iters_in': 20000,\n",
    "     'iters_out': 10, 'beta': 2}, 'init': {'acyclicity': 'logdet', 'primal_opt': 'fista'}, 'standarize': False,\n",
    "     'fix_lamb': False, 'leg': 'MM-FISTA'},\n",
    "\n",
    "    {'model': MetMulDagma, 'args': {'stepsize': 3e-4, 'alpha_0': .01, 'rho_0': .05, 's': 1, 'lamb': .1, 'iters_in': 10000,\n",
    "     'iters_out': 10, 'beta': 2}, 'init': {'acyclicity': 'logdet', 'primal_opt': 'adam'}, 'standarize': False,\n",
    "     'fix_lamb': False, 'leg': 'MM-adam'},\n",
    "\n",
    "    {'model': MetMulDagma, 'args': {'stepsize': 3e-4, 'alpha_0': .01, 'rho_0': .05, 's': 1, 'lamb': .05, 'iters_in': 10000,\n",
    "     'iters_out': 10, 'beta': 2}, 'init': {'acyclicity': 'logdet', 'primal_opt': 'adam'}, 'standarize': False,\n",
    "     'fix_lamb': True, 'leg': 'MM-adam-fix'},\n",
    "\n",
    "    # Proj Grad Desc - Mat exp\n",
    "    {'model': Nonneg_dagma, 'args': {'stepsize': 5e-6, 'alpha': 1e5, 's': 1, 'lamb': 2e-4, 'max_iters': 20000, 'tol': 1e-5},\n",
    "     'init': {'acyclicity': 'matexp', 'primal_opt': 'fista'}, 'fix_lamb': False, 'standarize': False, 'leg': 'PGD-matexp'},\n",
    "\n",
    "    # Method of Multipliers - Mat exp\n",
    "    {'model': MetMulDagma, 'args': {'stepsize': 1e-5, 'alpha_0': 1, 'rho_0': 10, 's': 1, 'lamb': .05, 'iters_in': 10000,\n",
    "     'iters_out': 5, 'beta': 10, 'tol': 1e-4}, 'init': {'acyclicity': 'matexp', 'primal_opt': 'fista'}, 'standarize': False,\n",
    "     'fix_lamb': True, 'leg': 'MM-fista-matexp'},\n",
    "\n",
    "    # Colide\n",
    "    {'model': colide_ev, 'args': {'lambda1': .05, 'T': 4, 's': [1.0, .9, .8, .7], 'warm_iter': 2e4,\n",
    "     'max_iter': 7e4, 'lr': .0003}, 'standarize': False, 'leg': 'CoLiDe'},\n",
    "\n",
    "    # DAGMA\n",
    "    {'model': DAGMA_linear, 'init': {'loss_type': 'l2'}, 'args': {'lambda1': .05, 'T': 4, 's': [1.0, .9, .8, .8],\n",
    "     'warm_iter': 2e4, 'max_iter': 7e4, 'lr': .0003}, 'standarize': False, 'leg': 'DAGMA'},\n",
    "\n",
    "    # NoTears\n",
    "    {'model': notears_linear, 'args': {'loss_type': 'l2', 'lambda1': .1, 'max_iter': 100}, 'standarize': False, 'leg': 'NoTears'},\n",
    "]"
   ]
  },
  {
   "cell_type": "markdown",
   "metadata": {},
   "source": [
    "## 4N Edges"
   ]
  },
  {
   "cell_type": "code",
   "execution_count": 10,
   "metadata": {},
   "outputs": [
    {
     "name": "stdout",
     "output_type": "stream",
     "text": [
      "CPUs employed: 32\n",
      "13: Fidelity: 100.838  -  Fidelity (norm): 329.363\n",
      "5: Fidelity: 100.053  -  Fidelity (norm): 449.676\n",
      "6: Fidelity: 100.519  -  Fidelity (norm): 275.233\n",
      "12: Fidelity: 100.626  -  Fidelity (norm): 485.233\n",
      "3: Fidelity: 99.757  -  Fidelity (norm): 237.474\n",
      "2: Fidelity: 99.369  -  Fidelity (norm): 434.859\n",
      "7: Fidelity: 100.147  -  Fidelity (norm): 510.567\n",
      "15: Fidelity: 99.269  -  Fidelity (norm): 285.799\n",
      "29: Fidelity: 100.657  -  Fidelity (norm): 438.890\n",
      "10: Fidelity: 99.606  -  Fidelity (norm): 347.126\n",
      "4: Fidelity: 100.634  -  Fidelity (norm): 317.059\n",
      "17: Fidelity: 100.608  -  Fidelity (norm): 428.193\n",
      "11: Fidelity: 99.554  -  Fidelity (norm): 328.621\n",
      "25: Fidelity: 99.621  -  Fidelity (norm): 405.389\n",
      "9: Fidelity: 99.972  -  Fidelity (norm): 388.106\n",
      "1: Fidelity: 99.360  -  Fidelity (norm): 261.160\n",
      "14: Fidelity: 101.212  -  Fidelity (norm): 419.305\n",
      "23: Fidelity: 100.506  -  Fidelity (norm): 287.018\n",
      "0: Fidelity: 100.728  -  Fidelity (norm): 355.449\n",
      "22: Fidelity: 99.181  -  Fidelity (norm): 274.114\n",
      "20: Fidelity: 99.698  -  Fidelity (norm): 426.378\n",
      "8: Fidelity: 99.529  -  Fidelity (norm): 403.845\n",
      "16: Fidelity: 99.664  -  Fidelity (norm): 315.752\n",
      "24: Fidelity: 98.197  -  Fidelity (norm): 323.742\n",
      "26: Fidelity: 100.282  -  Fidelity (norm): 344.213\n",
      "27: Fidelity: 100.121  -  Fidelity (norm): 500.373\n",
      "28: Fidelity: 99.896  -  Fidelity (norm): 378.651\n",
      "21: Fidelity: 100.455  -  Fidelity (norm): 497.852\n",
      "19: Fidelity: 101.074  -  Fidelity (norm): 263.335\n",
      "18: Fidelity: 100.006  -  Fidelity (norm): 398.803\n"
     ]
    },
    {
     "ename": "KeyboardInterrupt",
     "evalue": "",
     "output_type": "error",
     "traceback": [
      "\u001b[0;31m---------------------------------------------------------------------------\u001b[0m",
      "\u001b[0;31mKeyboardInterrupt\u001b[0m                         Traceback (most recent call last)",
      "Cell \u001b[0;32mIn[10], line 18\u001b[0m\n\u001b[1;32m     15\u001b[0m \u001b[38;5;28mprint\u001b[39m(\u001b[38;5;124m'\u001b[39m\u001b[38;5;124mCPUs employed:\u001b[39m\u001b[38;5;124m'\u001b[39m, N_CPUS)\n\u001b[1;32m     17\u001b[0m t_init \u001b[38;5;241m=\u001b[39m time\u001b[38;5;241m.\u001b[39mtime()\n\u001b[0;32m---> 18\u001b[0m results \u001b[38;5;241m=\u001b[39m \u001b[43mParallel\u001b[49m\u001b[43m(\u001b[49m\u001b[43mn_jobs\u001b[49m\u001b[38;5;241;43m=\u001b[39;49m\u001b[43mN_CPUS\u001b[49m\u001b[43m)\u001b[49m\u001b[43m(\u001b[49m\u001b[43mdelayed\u001b[49m\u001b[43m(\u001b[49m\u001b[43mrun_exps\u001b[49m\u001b[43m)\u001b[49m\u001b[43m(\u001b[49m\u001b[43mg\u001b[49m\u001b[43m,\u001b[49m\u001b[43m \u001b[49m\u001b[43mdata_params\u001b[49m\u001b[43m,\u001b[49m\u001b[43m \u001b[49m\u001b[43mExps\u001b[49m\u001b[43m,\u001b[49m\u001b[43m \u001b[49m\u001b[43mthr\u001b[49m\u001b[38;5;241;43m=\u001b[39;49m\u001b[38;5;241;43m.2\u001b[39;49m\u001b[43m,\u001b[49m\u001b[43m \u001b[49m\u001b[43mverb\u001b[49m\u001b[38;5;241;43m=\u001b[39;49m\u001b[43mverb\u001b[49m\u001b[43m)\u001b[49m\u001b[43m \u001b[49m\u001b[38;5;28;43;01mfor\u001b[39;49;00m\u001b[43m \u001b[49m\u001b[43mg\u001b[49m\u001b[43m \u001b[49m\u001b[38;5;129;43;01min\u001b[39;49;00m\u001b[43m \u001b[49m\u001b[38;5;28;43mrange\u001b[39;49m\u001b[43m(\u001b[49m\u001b[43mn_dags\u001b[49m\u001b[43m)\u001b[49m\u001b[43m)\u001b[49m\n\u001b[1;32m     19\u001b[0m ellapsed_time \u001b[38;5;241m=\u001b[39m (time\u001b[38;5;241m.\u001b[39mtime() \u001b[38;5;241m-\u001b[39m t_init)\u001b[38;5;241m/\u001b[39m\u001b[38;5;241m60\u001b[39m\n\u001b[1;32m     20\u001b[0m \u001b[38;5;28mprint\u001b[39m(\u001b[38;5;124mf\u001b[39m\u001b[38;5;124m'\u001b[39m\u001b[38;5;124m----- Solved in \u001b[39m\u001b[38;5;132;01m{\u001b[39;00mellapsed_time\u001b[38;5;132;01m:\u001b[39;00m\u001b[38;5;124m.3f\u001b[39m\u001b[38;5;132;01m}\u001b[39;00m\u001b[38;5;124m minutes -----\u001b[39m\u001b[38;5;124m'\u001b[39m)\n",
      "File \u001b[0;32m~/Investigacion/cvx_dag_learning/.venv/lib/python3.10/site-packages/joblib/parallel.py:2007\u001b[0m, in \u001b[0;36mParallel.__call__\u001b[0;34m(self, iterable)\u001b[0m\n\u001b[1;32m   2001\u001b[0m \u001b[38;5;66;03m# The first item from the output is blank, but it makes the interpreter\u001b[39;00m\n\u001b[1;32m   2002\u001b[0m \u001b[38;5;66;03m# progress until it enters the Try/Except block of the generator and\u001b[39;00m\n\u001b[1;32m   2003\u001b[0m \u001b[38;5;66;03m# reaches the first `yield` statement. This starts the asynchronous\u001b[39;00m\n\u001b[1;32m   2004\u001b[0m \u001b[38;5;66;03m# dispatch of the tasks to the workers.\u001b[39;00m\n\u001b[1;32m   2005\u001b[0m \u001b[38;5;28mnext\u001b[39m(output)\n\u001b[0;32m-> 2007\u001b[0m \u001b[38;5;28;01mreturn\u001b[39;00m output \u001b[38;5;28;01mif\u001b[39;00m \u001b[38;5;28mself\u001b[39m\u001b[38;5;241m.\u001b[39mreturn_generator \u001b[38;5;28;01melse\u001b[39;00m \u001b[38;5;28;43mlist\u001b[39;49m\u001b[43m(\u001b[49m\u001b[43moutput\u001b[49m\u001b[43m)\u001b[49m\n",
      "File \u001b[0;32m~/Investigacion/cvx_dag_learning/.venv/lib/python3.10/site-packages/joblib/parallel.py:1650\u001b[0m, in \u001b[0;36mParallel._get_outputs\u001b[0;34m(self, iterator, pre_dispatch)\u001b[0m\n\u001b[1;32m   1647\u001b[0m     \u001b[38;5;28;01myield\u001b[39;00m\n\u001b[1;32m   1649\u001b[0m     \u001b[38;5;28;01mwith\u001b[39;00m \u001b[38;5;28mself\u001b[39m\u001b[38;5;241m.\u001b[39m_backend\u001b[38;5;241m.\u001b[39mretrieval_context():\n\u001b[0;32m-> 1650\u001b[0m         \u001b[38;5;28;01myield from\u001b[39;00m \u001b[38;5;28mself\u001b[39m\u001b[38;5;241m.\u001b[39m_retrieve()\n\u001b[1;32m   1652\u001b[0m \u001b[38;5;28;01mexcept\u001b[39;00m \u001b[38;5;167;01mGeneratorExit\u001b[39;00m:\n\u001b[1;32m   1653\u001b[0m     \u001b[38;5;66;03m# The generator has been garbage collected before being fully\u001b[39;00m\n\u001b[1;32m   1654\u001b[0m     \u001b[38;5;66;03m# consumed. This aborts the remaining tasks if possible and warn\u001b[39;00m\n\u001b[1;32m   1655\u001b[0m     \u001b[38;5;66;03m# the user if necessary.\u001b[39;00m\n\u001b[1;32m   1656\u001b[0m     \u001b[38;5;28mself\u001b[39m\u001b[38;5;241m.\u001b[39m_exception \u001b[38;5;241m=\u001b[39m \u001b[38;5;28;01mTrue\u001b[39;00m\n",
      "File \u001b[0;32m~/Investigacion/cvx_dag_learning/.venv/lib/python3.10/site-packages/joblib/parallel.py:1762\u001b[0m, in \u001b[0;36mParallel._retrieve\u001b[0;34m(self)\u001b[0m\n\u001b[1;32m   1757\u001b[0m \u001b[38;5;66;03m# If the next job is not ready for retrieval yet, we just wait for\u001b[39;00m\n\u001b[1;32m   1758\u001b[0m \u001b[38;5;66;03m# async callbacks to progress.\u001b[39;00m\n\u001b[1;32m   1759\u001b[0m \u001b[38;5;28;01mif\u001b[39;00m ((\u001b[38;5;28mlen\u001b[39m(\u001b[38;5;28mself\u001b[39m\u001b[38;5;241m.\u001b[39m_jobs) \u001b[38;5;241m==\u001b[39m \u001b[38;5;241m0\u001b[39m) \u001b[38;5;129;01mor\u001b[39;00m\n\u001b[1;32m   1760\u001b[0m     (\u001b[38;5;28mself\u001b[39m\u001b[38;5;241m.\u001b[39m_jobs[\u001b[38;5;241m0\u001b[39m]\u001b[38;5;241m.\u001b[39mget_status(\n\u001b[1;32m   1761\u001b[0m         timeout\u001b[38;5;241m=\u001b[39m\u001b[38;5;28mself\u001b[39m\u001b[38;5;241m.\u001b[39mtimeout) \u001b[38;5;241m==\u001b[39m TASK_PENDING)):\n\u001b[0;32m-> 1762\u001b[0m     \u001b[43mtime\u001b[49m\u001b[38;5;241;43m.\u001b[39;49m\u001b[43msleep\u001b[49m\u001b[43m(\u001b[49m\u001b[38;5;241;43m0.01\u001b[39;49m\u001b[43m)\u001b[49m\n\u001b[1;32m   1763\u001b[0m     \u001b[38;5;28;01mcontinue\u001b[39;00m\n\u001b[1;32m   1765\u001b[0m \u001b[38;5;66;03m# We need to be careful: the job list can be filling up as\u001b[39;00m\n\u001b[1;32m   1766\u001b[0m \u001b[38;5;66;03m# we empty it and Python list are not thread-safe by\u001b[39;00m\n\u001b[1;32m   1767\u001b[0m \u001b[38;5;66;03m# default hence the use of the lock\u001b[39;00m\n",
      "\u001b[0;31mKeyboardInterrupt\u001b[0m: "
     ]
    }
   ],
   "source": [
    "N = 100\n",
    "\n",
    "n_dags = 30\n",
    "verb = True\n",
    "data_params = {\n",
    "    'n_nodes': N,\n",
    "    'n_samples': 500, # 1000,\n",
    "    'graph_type': 'er',\n",
    "    'edges': 4*N,\n",
    "    'edge_type': 'positive',\n",
    "    'w_range': (.5, 1),\n",
    "    'var': 1\n",
    "}\n",
    "\n",
    "print('CPUs employed:', N_CPUS)\n",
    "\n",
    "t_init = time.time()\n",
    "results = Parallel(n_jobs=N_CPUS)(delayed(run_exps)(g, data_params, Exps, thr=.2, verb=verb) for g in range(n_dags))\n",
    "ellapsed_time = (time.time() - t_init)/60\n",
    "print(f'----- Solved in {ellapsed_time:.3f} minutes -----')\n",
    "\n",
    "# Extract results\n",
    "shd, fscore, err, acyc, runtime = zip(*results)\n",
    "metrics = {'shd': shd, 'fscore': fscore, 'err': err, 'acyc': acyc, 'time': runtime}\n"
   ]
  },
  {
   "cell_type": "code",
   "execution_count": null,
   "metadata": {},
   "outputs": [
    {
     "data": {
      "text/html": [
       "<div>\n",
       "<style scoped>\n",
       "    .dataframe tbody tr th:only-of-type {\n",
       "        vertical-align: middle;\n",
       "    }\n",
       "\n",
       "    .dataframe tbody tr th {\n",
       "        vertical-align: top;\n",
       "    }\n",
       "\n",
       "    .dataframe thead th {\n",
       "        text-align: right;\n",
       "    }\n",
       "</style>\n",
       "<table border=\"1\" class=\"dataframe\">\n",
       "  <thead>\n",
       "    <tr style=\"text-align: right;\">\n",
       "      <th></th>\n",
       "      <th>leg</th>\n",
       "      <th>shd</th>\n",
       "      <th>fscore</th>\n",
       "      <th>err</th>\n",
       "      <th>acyc</th>\n",
       "      <th>time</th>\n",
       "    </tr>\n",
       "  </thead>\n",
       "  <tbody>\n",
       "    <tr>\n",
       "      <th>0</th>\n",
       "      <td>PGD-FISTA</td>\n",
       "      <td>44.4667  ± 113.7663</td>\n",
       "      <td>0.9300  ± 0.1799</td>\n",
       "      <td>0.1456  ± 0.3455</td>\n",
       "      <td>1.4809  ± 0.4419</td>\n",
       "      <td>9.5156  ± 2.7243</td>\n",
       "    </tr>\n",
       "    <tr>\n",
       "      <th>1</th>\n",
       "      <td>PGD-Adam</td>\n",
       "      <td>0.1667  ± 0.5821</td>\n",
       "      <td>0.9997  ± 0.0013</td>\n",
       "      <td>0.0125  ± 0.0012</td>\n",
       "      <td>1.6319  ± 0.2605</td>\n",
       "      <td>12.5988  ± 3.4132</td>\n",
       "    </tr>\n",
       "    <tr>\n",
       "      <th>2</th>\n",
       "      <td>MM</td>\n",
       "      <td>47.9667  ± 68.9630</td>\n",
       "      <td>0.9396  ± 0.0842</td>\n",
       "      <td>0.1166  ± 0.1506</td>\n",
       "      <td>0.0075  ± 0.0238</td>\n",
       "      <td>246.0834  ± 106.3629</td>\n",
       "    </tr>\n",
       "    <tr>\n",
       "      <th>3</th>\n",
       "      <td>MM-FISTA</td>\n",
       "      <td>48.6000  ± 92.1041</td>\n",
       "      <td>0.9361  ± 0.1270</td>\n",
       "      <td>0.0987  ± 0.1895</td>\n",
       "      <td>0.0764  ± 0.2068</td>\n",
       "      <td>27.7045  ± 13.0354</td>\n",
       "    </tr>\n",
       "    <tr>\n",
       "      <th>4</th>\n",
       "      <td>MM-adam</td>\n",
       "      <td>0.2333  ± 0.7608</td>\n",
       "      <td>0.9996  ± 0.0014</td>\n",
       "      <td>0.0103  ± 0.0014</td>\n",
       "      <td>0.0020  ± 0.0007</td>\n",
       "      <td>35.2052  ± 10.1880</td>\n",
       "    </tr>\n",
       "    <tr>\n",
       "      <th>5</th>\n",
       "      <td>MM-adam-fix</td>\n",
       "      <td>2.1333  ± 2.1868</td>\n",
       "      <td>0.9967  ± 0.0038</td>\n",
       "      <td>0.0174  ± 0.0043</td>\n",
       "      <td>0.0121  ± 0.0035</td>\n",
       "      <td>29.8664  ± 10.0082</td>\n",
       "    </tr>\n",
       "    <tr>\n",
       "      <th>6</th>\n",
       "      <td>CoLiDe</td>\n",
       "      <td>32.3667  ± 14.1197</td>\n",
       "      <td>0.9489  ± 0.0201</td>\n",
       "      <td>0.0803  ± 0.0296</td>\n",
       "      <td>0.0003  ± 0.0000</td>\n",
       "      <td>66.1110  ± 27.7100</td>\n",
       "    </tr>\n",
       "    <tr>\n",
       "      <th>7</th>\n",
       "      <td>DAGMA</td>\n",
       "      <td>29.2667  ± 15.6481</td>\n",
       "      <td>0.9535  ± 0.0220</td>\n",
       "      <td>0.0773  ± 0.0293</td>\n",
       "      <td>1.0000  ± 0.0000</td>\n",
       "      <td>50.3380  ± 18.2213</td>\n",
       "    </tr>\n",
       "    <tr>\n",
       "      <th>8</th>\n",
       "      <td>NoTears</td>\n",
       "      <td>57.1000  ± 23.0570</td>\n",
       "      <td>0.9152  ± 0.0316</td>\n",
       "      <td>0.1466  ± 0.0538</td>\n",
       "      <td>1.0000  ± 0.0000</td>\n",
       "      <td>886.4303  ± 213.3939</td>\n",
       "    </tr>\n",
       "  </tbody>\n",
       "</table>\n",
       "</div>"
      ],
      "text/plain": [
       "           leg                  shd            fscore               err  \\\n",
       "0    PGD-FISTA  44.4667  ± 113.7663  0.9300  ± 0.1799  0.1456  ± 0.3455   \n",
       "1     PGD-Adam     0.1667  ± 0.5821  0.9997  ± 0.0013  0.0125  ± 0.0012   \n",
       "2           MM   47.9667  ± 68.9630  0.9396  ± 0.0842  0.1166  ± 0.1506   \n",
       "3     MM-FISTA   48.6000  ± 92.1041  0.9361  ± 0.1270  0.0987  ± 0.1895   \n",
       "4      MM-adam     0.2333  ± 0.7608  0.9996  ± 0.0014  0.0103  ± 0.0014   \n",
       "5  MM-adam-fix     2.1333  ± 2.1868  0.9967  ± 0.0038  0.0174  ± 0.0043   \n",
       "6       CoLiDe   32.3667  ± 14.1197  0.9489  ± 0.0201  0.0803  ± 0.0296   \n",
       "7        DAGMA   29.2667  ± 15.6481  0.9535  ± 0.0220  0.0773  ± 0.0293   \n",
       "8      NoTears   57.1000  ± 23.0570  0.9152  ± 0.0316  0.1466  ± 0.0538   \n",
       "\n",
       "               acyc                  time  \n",
       "0  1.4809  ± 0.4419      9.5156  ± 2.7243  \n",
       "1  1.6319  ± 0.2605     12.5988  ± 3.4132  \n",
       "2  0.0075  ± 0.0238  246.0834  ± 106.3629  \n",
       "3  0.0764  ± 0.2068    27.7045  ± 13.0354  \n",
       "4  0.0020  ± 0.0007    35.2052  ± 10.1880  \n",
       "5  0.0121  ± 0.0035    29.8664  ± 10.0082  \n",
       "6  0.0003  ± 0.0000    66.1110  ± 27.7100  \n",
       "7  1.0000  ± 0.0000    50.3380  ± 18.2213  \n",
       "8  1.0000  ± 0.0000  886.4303  ± 213.3939  "
      ]
     },
     "metadata": {},
     "output_type": "display_data"
    },
    {
     "data": {
      "text/html": [
       "<div>\n",
       "<style scoped>\n",
       "    .dataframe tbody tr th:only-of-type {\n",
       "        vertical-align: middle;\n",
       "    }\n",
       "\n",
       "    .dataframe tbody tr th {\n",
       "        vertical-align: top;\n",
       "    }\n",
       "\n",
       "    .dataframe thead th {\n",
       "        text-align: right;\n",
       "    }\n",
       "</style>\n",
       "<table border=\"1\" class=\"dataframe\">\n",
       "  <thead>\n",
       "    <tr style=\"text-align: right;\">\n",
       "      <th></th>\n",
       "      <th>leg</th>\n",
       "      <th>shd</th>\n",
       "      <th>fscore</th>\n",
       "      <th>err</th>\n",
       "      <th>acyc</th>\n",
       "      <th>time</th>\n",
       "    </tr>\n",
       "  </thead>\n",
       "  <tbody>\n",
       "    <tr>\n",
       "      <th>0</th>\n",
       "      <td>PGD-FISTA</td>\n",
       "      <td>0.0000  ± 113.7663</td>\n",
       "      <td>1.0000  ± 0.1799</td>\n",
       "      <td>0.0125  ± 0.3455</td>\n",
       "      <td>1.5558  ± 0.4419</td>\n",
       "      <td>9.3453  ± 2.7243</td>\n",
       "    </tr>\n",
       "    <tr>\n",
       "      <th>1</th>\n",
       "      <td>PGD-Adam</td>\n",
       "      <td>0.0000  ± 0.5821</td>\n",
       "      <td>1.0000  ± 0.0013</td>\n",
       "      <td>0.0123  ± 0.0012</td>\n",
       "      <td>1.6349  ± 0.2605</td>\n",
       "      <td>14.6472  ± 3.4132</td>\n",
       "    </tr>\n",
       "    <tr>\n",
       "      <th>2</th>\n",
       "      <td>MM</td>\n",
       "      <td>16.0000  ± 68.9630</td>\n",
       "      <td>0.9743  ± 0.0842</td>\n",
       "      <td>0.0548  ± 0.1506</td>\n",
       "      <td>0.0015  ± 0.0238</td>\n",
       "      <td>236.3029  ± 106.3629</td>\n",
       "    </tr>\n",
       "    <tr>\n",
       "      <th>3</th>\n",
       "      <td>MM-FISTA</td>\n",
       "      <td>1.5000  ± 92.1041</td>\n",
       "      <td>0.9969  ± 0.1270</td>\n",
       "      <td>0.0127  ± 0.1895</td>\n",
       "      <td>0.0041  ± 0.2068</td>\n",
       "      <td>22.5085  ± 13.0354</td>\n",
       "    </tr>\n",
       "    <tr>\n",
       "      <th>4</th>\n",
       "      <td>MM-adam</td>\n",
       "      <td>0.0000  ± 0.7608</td>\n",
       "      <td>1.0000  ± 0.0014</td>\n",
       "      <td>0.0100  ± 0.0014</td>\n",
       "      <td>0.0019  ± 0.0007</td>\n",
       "      <td>35.5078  ± 10.1880</td>\n",
       "    </tr>\n",
       "    <tr>\n",
       "      <th>5</th>\n",
       "      <td>MM-adam-fix</td>\n",
       "      <td>1.0000  ± 2.1868</td>\n",
       "      <td>0.9982  ± 0.0038</td>\n",
       "      <td>0.0161  ± 0.0043</td>\n",
       "      <td>0.0126  ± 0.0035</td>\n",
       "      <td>26.7692  ± 10.0082</td>\n",
       "    </tr>\n",
       "    <tr>\n",
       "      <th>6</th>\n",
       "      <td>CoLiDe</td>\n",
       "      <td>30.5000  ± 14.1197</td>\n",
       "      <td>0.9523  ± 0.0201</td>\n",
       "      <td>0.0755  ± 0.0296</td>\n",
       "      <td>0.0003  ± 0.0000</td>\n",
       "      <td>55.4217  ± 27.7100</td>\n",
       "    </tr>\n",
       "    <tr>\n",
       "      <th>7</th>\n",
       "      <td>DAGMA</td>\n",
       "      <td>27.5000  ± 15.6481</td>\n",
       "      <td>0.9538  ± 0.0220</td>\n",
       "      <td>0.0765  ± 0.0293</td>\n",
       "      <td>1.0000  ± 0.0000</td>\n",
       "      <td>46.4685  ± 18.2213</td>\n",
       "    </tr>\n",
       "    <tr>\n",
       "      <th>8</th>\n",
       "      <td>NoTears</td>\n",
       "      <td>58.5000  ± 23.0570</td>\n",
       "      <td>0.9104  ± 0.0316</td>\n",
       "      <td>0.1504  ± 0.0538</td>\n",
       "      <td>1.0000  ± 0.0000</td>\n",
       "      <td>953.6134  ± 213.3939</td>\n",
       "    </tr>\n",
       "  </tbody>\n",
       "</table>\n",
       "</div>"
      ],
      "text/plain": [
       "           leg                 shd            fscore               err  \\\n",
       "0    PGD-FISTA  0.0000  ± 113.7663  1.0000  ± 0.1799  0.0125  ± 0.3455   \n",
       "1     PGD-Adam    0.0000  ± 0.5821  1.0000  ± 0.0013  0.0123  ± 0.0012   \n",
       "2           MM  16.0000  ± 68.9630  0.9743  ± 0.0842  0.0548  ± 0.1506   \n",
       "3     MM-FISTA   1.5000  ± 92.1041  0.9969  ± 0.1270  0.0127  ± 0.1895   \n",
       "4      MM-adam    0.0000  ± 0.7608  1.0000  ± 0.0014  0.0100  ± 0.0014   \n",
       "5  MM-adam-fix    1.0000  ± 2.1868  0.9982  ± 0.0038  0.0161  ± 0.0043   \n",
       "6       CoLiDe  30.5000  ± 14.1197  0.9523  ± 0.0201  0.0755  ± 0.0296   \n",
       "7        DAGMA  27.5000  ± 15.6481  0.9538  ± 0.0220  0.0765  ± 0.0293   \n",
       "8      NoTears  58.5000  ± 23.0570  0.9104  ± 0.0316  0.1504  ± 0.0538   \n",
       "\n",
       "               acyc                  time  \n",
       "0  1.5558  ± 0.4419      9.3453  ± 2.7243  \n",
       "1  1.6349  ± 0.2605     14.6472  ± 3.4132  \n",
       "2  0.0015  ± 0.0238  236.3029  ± 106.3629  \n",
       "3  0.0041  ± 0.2068    22.5085  ± 13.0354  \n",
       "4  0.0019  ± 0.0007    35.5078  ± 10.1880  \n",
       "5  0.0126  ± 0.0035    26.7692  ± 10.0082  \n",
       "6  0.0003  ± 0.0000    55.4217  ± 27.7100  \n",
       "7  1.0000  ± 0.0000    46.4685  ± 18.2213  \n",
       "8  1.0000  ± 0.0000  953.6134  ± 213.3939  "
      ]
     },
     "metadata": {},
     "output_type": "display_data"
    }
   ],
   "source": [
    "exps_leg = [exp['leg'] for exp in Exps]\n",
    "utils.display_results(exps_leg, metrics, agg='mean')\n",
    "utils.display_results(exps_leg, metrics, agg='median')"
   ]
  },
  {
   "cell_type": "markdown",
   "metadata": {},
   "source": [
    "## 2N Edges - 100 nodes"
   ]
  },
  {
   "cell_type": "code",
   "execution_count": null,
   "metadata": {},
   "outputs": [
    {
     "name": "stdout",
     "output_type": "stream",
     "text": [
      "CPUs employed: 32\n",
      "0: Fidelity: 99.166  -  Fidelity (norm): 83.547\n",
      "1: Fidelity: 99.166  -  Fidelity (norm): 74.474\n",
      "2: Fidelity: 99.166  -  Fidelity (norm): 86.251\n",
      "3: Fidelity: 99.166  -  Fidelity (norm): 79.338\n",
      "4: Fidelity: 99.166  -  Fidelity (norm): 94.518\n",
      "5: Fidelity: 99.166  -  Fidelity (norm): 74.226\n",
      "6: Fidelity: 99.166  -  Fidelity (norm): 82.351\n",
      "7: Fidelity: 99.166  -  Fidelity (norm): 85.536\n",
      "8: Fidelity: 99.166  -  Fidelity (norm): 85.159\n",
      "10: Fidelity: 99.166  -  Fidelity (norm): 86.291\n",
      "9: Fidelity: 99.166  -  Fidelity (norm): 78.503\n",
      "11: Fidelity: 99.166  -  Fidelity (norm): 78.843\n",
      "24: Fidelity: 100.084  -  Fidelity (norm): 83.375\n",
      "21: Fidelity: 100.867  -  Fidelity (norm): 74.127\n",
      "23: Fidelity: 100.550  -  Fidelity (norm): 97.654\n",
      "19: Fidelity: 100.058  -  Fidelity (norm): 71.361\n",
      "18: Fidelity: 100.548  -  Fidelity (norm): 98.949\n",
      "16: Fidelity: 99.614  -  Fidelity (norm): 83.142\n",
      "13: Fidelity: 100.605  -  Fidelity (norm): 73.057\n",
      "12: Fidelity: 100.169  -  Fidelity (norm): 86.856\n",
      "14: Fidelity: 100.474  -  Fidelity (norm): 82.387\n",
      "15: Fidelity: 100.897  -  Fidelity (norm): 77.255\n",
      "20: Fidelity: 99.218  -  Fidelity (norm): 83.148\n",
      "17: Fidelity: 100.748  -  Fidelity (norm): 75.956\n",
      "22: Fidelity: 100.159  -  Fidelity (norm): 69.164\n"
     ]
    },
    {
     "name": "stderr",
     "output_type": "stream",
     "text": [
      "  0%|          | 0/130000.0 [00:18<?, ?it/s]\n",
      "  0%|          | 0/130000.0 [00:18<?, ?it/s]\n",
      "  0%|          | 0/130000.0 [00:21<?, ?it/s]\n",
      "  0%|          | 0/130000.0 [00:20<?, ?it/s]\n",
      "  0%|          | 0/130000.0 [00:28<?, ?it/s]\n",
      "  0%|          | 0/130000.0 [00:34<?, ?it/s]\n",
      "  0%|          | 0/130000.0 [00:30<?, ?it/s]\n",
      "  0%|          | 0/130000.0 [00:33<?, ?it/s]\n",
      "  0%|          | 0/130000.0 [00:32<?, ?it/s]\n",
      "  0%|          | 0/130000.0 [00:32<?, ?it/s]\n",
      "  0%|          | 0/130000.0 [00:34<?, ?it/s]\n",
      "  0%|          | 0/130000.0 [00:37<?, ?it/s]\n",
      "  0%|          | 0/130000.0 [00:34<?, ?it/s]\n",
      "  0%|          | 0/130000.0 [00:34<?, ?it/s]\n",
      "  0%|          | 0/130000.0 [00:37<?, ?it/s]\n",
      "  0%|          | 0/130000.0 [00:39<?, ?it/s]\n",
      "  0%|          | 0/130000.0 [00:31<?, ?it/s]\n",
      "  0%|          | 0/130000.0 [00:35<?, ?it/s]\n",
      "  0%|          | 0/130000.0 [00:42<?, ?it/s]\n",
      "  0%|          | 0/130000.0 [00:43<?, ?it/s]\n",
      "  0%|          | 0/130000.0 [00:35<?, ?it/s]\n",
      "  0%|          | 0/130000.0 [00:41<?, ?it/s]\n",
      "  0%|          | 0/130000.0 [00:45<?, ?it/s]\n",
      "  0%|          | 0/130000.0 [00:31<?, ?it/s]\n",
      "  0%|          | 0/130000.0 [00:40<?, ?it/s]\n"
     ]
    },
    {
     "name": "stdout",
     "output_type": "stream",
     "text": [
      "----- Solved in 4.87e+02 seconds -----\n"
     ]
    }
   ],
   "source": [
    "###  1000 samples - 100 nodes  #####\n",
    "N = 100\n",
    "\n",
    "n_dags = 25\n",
    "data_params = {\n",
    "    'n_nodes': N,\n",
    "    'n_samples': 500, # 1000,\n",
    "    'graph_type': 'er',\n",
    "    'edges': 2*N,\n",
    "    'edge_type': 'positive',\n",
    "    'w_range': (.5, 1),\n",
    "    'var': 1,\n",
    "}\n",
    "\n",
    "print('CPUs employed:', N_CPUS)\n",
    "\n",
    "t_init = time.time()\n",
    "results = Parallel(n_jobs=N_CPUS)(delayed(run_exps)(g, data_params, Exps, thr=.2, verb=False) for g in range(n_dags))\n",
    "ellapsed_time = (time.time() - t_init)/60\n",
    "print(f'----- Solved in {ellapsed_time:.3f} minutes -----')\n",
    "\n",
    "# Extract results\n",
    "shd, fscore, err, acyc, runtime = zip(*results)\n",
    "metrics = {'shd': shd, 'fscore': fscore, 'err': err, 'acyc': acyc, 'time': runtime}\n"
   ]
  },
  {
   "cell_type": "code",
   "execution_count": null,
   "metadata": {},
   "outputs": [
    {
     "data": {
      "text/html": [
       "<div>\n",
       "<style scoped>\n",
       "    .dataframe tbody tr th:only-of-type {\n",
       "        vertical-align: middle;\n",
       "    }\n",
       "\n",
       "    .dataframe tbody tr th {\n",
       "        vertical-align: top;\n",
       "    }\n",
       "\n",
       "    .dataframe thead th {\n",
       "        text-align: right;\n",
       "    }\n",
       "</style>\n",
       "<table border=\"1\" class=\"dataframe\">\n",
       "  <thead>\n",
       "    <tr style=\"text-align: right;\">\n",
       "      <th></th>\n",
       "      <th>leg</th>\n",
       "      <th>shd</th>\n",
       "      <th>fscore</th>\n",
       "      <th>err</th>\n",
       "      <th>acyc</th>\n",
       "      <th>time</th>\n",
       "    </tr>\n",
       "  </thead>\n",
       "  <tbody>\n",
       "    <tr>\n",
       "      <th>0</th>\n",
       "      <td>PGD-FISTA</td>\n",
       "      <td>0.1600  ± 0.4630</td>\n",
       "      <td>0.9995  ± 0.0015</td>\n",
       "      <td>0.0210  ± 0.0084</td>\n",
       "      <td>0.7234  ± 0.3196</td>\n",
       "      <td>2.5151  ± 0.9965</td>\n",
       "    </tr>\n",
       "    <tr>\n",
       "      <th>1</th>\n",
       "      <td>PGD-Adam</td>\n",
       "      <td>0.3200  ± 0.6145</td>\n",
       "      <td>0.9986  ± 0.0027</td>\n",
       "      <td>0.0235  ± 0.0043</td>\n",
       "      <td>0.4926  ± 0.2934</td>\n",
       "      <td>2.5296  ± 0.7141</td>\n",
       "    </tr>\n",
       "    <tr>\n",
       "      <th>2</th>\n",
       "      <td>MM</td>\n",
       "      <td>0.2000  ± 0.5657</td>\n",
       "      <td>0.9992  ± 0.0023</td>\n",
       "      <td>0.0169  ± 0.0019</td>\n",
       "      <td>0.0072  ± 0.0009</td>\n",
       "      <td>72.5910  ± 10.2621</td>\n",
       "    </tr>\n",
       "    <tr>\n",
       "      <th>3</th>\n",
       "      <td>MM-FISTA</td>\n",
       "      <td>15.2000  ± 38.6937</td>\n",
       "      <td>0.9661  ± 0.0814</td>\n",
       "      <td>0.0685  ± 0.1323</td>\n",
       "      <td>0.0119  ± 0.0205</td>\n",
       "      <td>21.2054  ± 7.2162</td>\n",
       "    </tr>\n",
       "    <tr>\n",
       "      <th>4</th>\n",
       "      <td>MM-adam</td>\n",
       "      <td>0.7200  ± 2.0692</td>\n",
       "      <td>0.9975  ± 0.0062</td>\n",
       "      <td>0.0178  ± 0.0059</td>\n",
       "      <td>0.0052  ± 0.0007</td>\n",
       "      <td>17.7671  ± 3.9768</td>\n",
       "    </tr>\n",
       "    <tr>\n",
       "      <th>5</th>\n",
       "      <td>MM-adam-fix</td>\n",
       "      <td>2.1200  ± 2.8750</td>\n",
       "      <td>0.9914  ± 0.0085</td>\n",
       "      <td>0.0192  ± 0.0102</td>\n",
       "      <td>0.0084  ± 0.0012</td>\n",
       "      <td>15.1349  ± 3.2953</td>\n",
       "    </tr>\n",
       "    <tr>\n",
       "      <th>6</th>\n",
       "      <td>CoLiDe</td>\n",
       "      <td>6.1600  ± 4.2772</td>\n",
       "      <td>0.9783  ± 0.0133</td>\n",
       "      <td>0.0366  ± 0.0161</td>\n",
       "      <td>0.0001  ± 0.0000</td>\n",
       "      <td>33.4869  ± 7.2743</td>\n",
       "    </tr>\n",
       "    <tr>\n",
       "      <th>7</th>\n",
       "      <td>DAGMA</td>\n",
       "      <td>5.4400  ± 4.2622</td>\n",
       "      <td>0.9809  ± 0.0133</td>\n",
       "      <td>0.0348  ± 0.0160</td>\n",
       "      <td>1.0000  ± 0.0000</td>\n",
       "      <td>33.1552  ± 7.6967</td>\n",
       "    </tr>\n",
       "    <tr>\n",
       "      <th>8</th>\n",
       "      <td>NoTears</td>\n",
       "      <td>5.2000  ± 3.1241</td>\n",
       "      <td>0.9805  ± 0.0101</td>\n",
       "      <td>0.0330  ± 0.0149</td>\n",
       "      <td>1.0000  ± 0.0000</td>\n",
       "      <td>186.8967  ± 43.4586</td>\n",
       "    </tr>\n",
       "  </tbody>\n",
       "</table>\n",
       "</div>"
      ],
      "text/plain": [
       "           leg                 shd            fscore               err  \\\n",
       "0    PGD-FISTA    0.1600  ± 0.4630  0.9995  ± 0.0015  0.0210  ± 0.0084   \n",
       "1     PGD-Adam    0.3200  ± 0.6145  0.9986  ± 0.0027  0.0235  ± 0.0043   \n",
       "2           MM    0.2000  ± 0.5657  0.9992  ± 0.0023  0.0169  ± 0.0019   \n",
       "3     MM-FISTA  15.2000  ± 38.6937  0.9661  ± 0.0814  0.0685  ± 0.1323   \n",
       "4      MM-adam    0.7200  ± 2.0692  0.9975  ± 0.0062  0.0178  ± 0.0059   \n",
       "5  MM-adam-fix    2.1200  ± 2.8750  0.9914  ± 0.0085  0.0192  ± 0.0102   \n",
       "6       CoLiDe    6.1600  ± 4.2772  0.9783  ± 0.0133  0.0366  ± 0.0161   \n",
       "7        DAGMA    5.4400  ± 4.2622  0.9809  ± 0.0133  0.0348  ± 0.0160   \n",
       "8      NoTears    5.2000  ± 3.1241  0.9805  ± 0.0101  0.0330  ± 0.0149   \n",
       "\n",
       "               acyc                 time  \n",
       "0  0.7234  ± 0.3196     2.5151  ± 0.9965  \n",
       "1  0.4926  ± 0.2934     2.5296  ± 0.7141  \n",
       "2  0.0072  ± 0.0009   72.5910  ± 10.2621  \n",
       "3  0.0119  ± 0.0205    21.2054  ± 7.2162  \n",
       "4  0.0052  ± 0.0007    17.7671  ± 3.9768  \n",
       "5  0.0084  ± 0.0012    15.1349  ± 3.2953  \n",
       "6  0.0001  ± 0.0000    33.4869  ± 7.2743  \n",
       "7  1.0000  ± 0.0000    33.1552  ± 7.6967  \n",
       "8  1.0000  ± 0.0000  186.8967  ± 43.4586  "
      ]
     },
     "metadata": {},
     "output_type": "display_data"
    },
    {
     "data": {
      "text/html": [
       "<div>\n",
       "<style scoped>\n",
       "    .dataframe tbody tr th:only-of-type {\n",
       "        vertical-align: middle;\n",
       "    }\n",
       "\n",
       "    .dataframe tbody tr th {\n",
       "        vertical-align: top;\n",
       "    }\n",
       "\n",
       "    .dataframe thead th {\n",
       "        text-align: right;\n",
       "    }\n",
       "</style>\n",
       "<table border=\"1\" class=\"dataframe\">\n",
       "  <thead>\n",
       "    <tr style=\"text-align: right;\">\n",
       "      <th></th>\n",
       "      <th>leg</th>\n",
       "      <th>shd</th>\n",
       "      <th>fscore</th>\n",
       "      <th>err</th>\n",
       "      <th>acyc</th>\n",
       "      <th>time</th>\n",
       "    </tr>\n",
       "  </thead>\n",
       "  <tbody>\n",
       "    <tr>\n",
       "      <th>0</th>\n",
       "      <td>PGD-FISTA</td>\n",
       "      <td>0.0000  ± 0.4630</td>\n",
       "      <td>1.0000  ± 0.0015</td>\n",
       "      <td>0.0187  ± 0.0084</td>\n",
       "      <td>0.7474  ± 0.3196</td>\n",
       "      <td>2.0837  ± 0.9965</td>\n",
       "    </tr>\n",
       "    <tr>\n",
       "      <th>1</th>\n",
       "      <td>PGD-Adam</td>\n",
       "      <td>0.0000  ± 0.6145</td>\n",
       "      <td>1.0000  ± 0.0027</td>\n",
       "      <td>0.0233  ± 0.0043</td>\n",
       "      <td>0.5255  ± 0.2934</td>\n",
       "      <td>2.4221  ± 0.7141</td>\n",
       "    </tr>\n",
       "    <tr>\n",
       "      <th>2</th>\n",
       "      <td>MM</td>\n",
       "      <td>0.0000  ± 0.5657</td>\n",
       "      <td>1.0000  ± 0.0023</td>\n",
       "      <td>0.0166  ± 0.0019</td>\n",
       "      <td>0.0069  ± 0.0009</td>\n",
       "      <td>73.7634  ± 10.2621</td>\n",
       "    </tr>\n",
       "    <tr>\n",
       "      <th>3</th>\n",
       "      <td>MM-FISTA</td>\n",
       "      <td>0.0000  ± 38.6937</td>\n",
       "      <td>1.0000  ± 0.0814</td>\n",
       "      <td>0.0174  ± 0.1323</td>\n",
       "      <td>0.0062  ± 0.0205</td>\n",
       "      <td>19.5585  ± 7.2162</td>\n",
       "    </tr>\n",
       "    <tr>\n",
       "      <th>4</th>\n",
       "      <td>MM-adam</td>\n",
       "      <td>0.0000  ± 2.0692</td>\n",
       "      <td>1.0000  ± 0.0062</td>\n",
       "      <td>0.0161  ± 0.0059</td>\n",
       "      <td>0.0051  ± 0.0007</td>\n",
       "      <td>16.7323  ± 3.9768</td>\n",
       "    </tr>\n",
       "    <tr>\n",
       "      <th>5</th>\n",
       "      <td>MM-adam-fix</td>\n",
       "      <td>2.0000  ± 2.8750</td>\n",
       "      <td>0.9929  ± 0.0085</td>\n",
       "      <td>0.0147  ± 0.0102</td>\n",
       "      <td>0.0085  ± 0.0012</td>\n",
       "      <td>14.2340  ± 3.2953</td>\n",
       "    </tr>\n",
       "    <tr>\n",
       "      <th>6</th>\n",
       "      <td>CoLiDe</td>\n",
       "      <td>5.0000  ± 4.2772</td>\n",
       "      <td>0.9804  ± 0.0133</td>\n",
       "      <td>0.0356  ± 0.0161</td>\n",
       "      <td>0.0001  ± 0.0000</td>\n",
       "      <td>34.6268  ± 7.2743</td>\n",
       "    </tr>\n",
       "    <tr>\n",
       "      <th>7</th>\n",
       "      <td>DAGMA</td>\n",
       "      <td>4.0000  ± 4.2622</td>\n",
       "      <td>0.9839  ± 0.0133</td>\n",
       "      <td>0.0316  ± 0.0160</td>\n",
       "      <td>1.0000  ± 0.0000</td>\n",
       "      <td>33.5630  ± 7.6967</td>\n",
       "    </tr>\n",
       "    <tr>\n",
       "      <th>8</th>\n",
       "      <td>NoTears</td>\n",
       "      <td>5.0000  ± 3.1241</td>\n",
       "      <td>0.9822  ± 0.0101</td>\n",
       "      <td>0.0320  ± 0.0149</td>\n",
       "      <td>1.0000  ± 0.0000</td>\n",
       "      <td>185.9129  ± 43.4586</td>\n",
       "    </tr>\n",
       "  </tbody>\n",
       "</table>\n",
       "</div>"
      ],
      "text/plain": [
       "           leg                shd            fscore               err  \\\n",
       "0    PGD-FISTA   0.0000  ± 0.4630  1.0000  ± 0.0015  0.0187  ± 0.0084   \n",
       "1     PGD-Adam   0.0000  ± 0.6145  1.0000  ± 0.0027  0.0233  ± 0.0043   \n",
       "2           MM   0.0000  ± 0.5657  1.0000  ± 0.0023  0.0166  ± 0.0019   \n",
       "3     MM-FISTA  0.0000  ± 38.6937  1.0000  ± 0.0814  0.0174  ± 0.1323   \n",
       "4      MM-adam   0.0000  ± 2.0692  1.0000  ± 0.0062  0.0161  ± 0.0059   \n",
       "5  MM-adam-fix   2.0000  ± 2.8750  0.9929  ± 0.0085  0.0147  ± 0.0102   \n",
       "6       CoLiDe   5.0000  ± 4.2772  0.9804  ± 0.0133  0.0356  ± 0.0161   \n",
       "7        DAGMA   4.0000  ± 4.2622  0.9839  ± 0.0133  0.0316  ± 0.0160   \n",
       "8      NoTears   5.0000  ± 3.1241  0.9822  ± 0.0101  0.0320  ± 0.0149   \n",
       "\n",
       "               acyc                 time  \n",
       "0  0.7474  ± 0.3196     2.0837  ± 0.9965  \n",
       "1  0.5255  ± 0.2934     2.4221  ± 0.7141  \n",
       "2  0.0069  ± 0.0009   73.7634  ± 10.2621  \n",
       "3  0.0062  ± 0.0205    19.5585  ± 7.2162  \n",
       "4  0.0051  ± 0.0007    16.7323  ± 3.9768  \n",
       "5  0.0085  ± 0.0012    14.2340  ± 3.2953  \n",
       "6  0.0001  ± 0.0000    34.6268  ± 7.2743  \n",
       "7  1.0000  ± 0.0000    33.5630  ± 7.6967  \n",
       "8  1.0000  ± 0.0000  185.9129  ± 43.4586  "
      ]
     },
     "metadata": {},
     "output_type": "display_data"
    },
    {
     "data": {
      "text/html": [
       "<div>\n",
       "<style scoped>\n",
       "    .dataframe tbody tr th:only-of-type {\n",
       "        vertical-align: middle;\n",
       "    }\n",
       "\n",
       "    .dataframe tbody tr th {\n",
       "        vertical-align: top;\n",
       "    }\n",
       "\n",
       "    .dataframe thead th {\n",
       "        text-align: right;\n",
       "    }\n",
       "</style>\n",
       "<table border=\"1\" class=\"dataframe\">\n",
       "  <thead>\n",
       "    <tr style=\"text-align: right;\">\n",
       "      <th></th>\n",
       "      <th>leg</th>\n",
       "      <th>shd</th>\n",
       "      <th>fscore</th>\n",
       "      <th>err</th>\n",
       "      <th>acyc</th>\n",
       "      <th>time</th>\n",
       "    </tr>\n",
       "  </thead>\n",
       "  <tbody>\n",
       "    <tr>\n",
       "      <th>0</th>\n",
       "      <td>PGD-FISTA</td>\n",
       "      <td>0.1600  ± 0.4630</td>\n",
       "      <td>0.9995  ± 0.0015</td>\n",
       "      <td>0.0210  ± 0.0084</td>\n",
       "      <td>0.7234  ± 0.3196</td>\n",
       "      <td>2.5151  ± 0.9965</td>\n",
       "    </tr>\n",
       "    <tr>\n",
       "      <th>1</th>\n",
       "      <td>PGD-Adam</td>\n",
       "      <td>0.3200  ± 0.6145</td>\n",
       "      <td>0.9986  ± 0.0027</td>\n",
       "      <td>0.0235  ± 0.0043</td>\n",
       "      <td>0.4926  ± 0.2934</td>\n",
       "      <td>2.5296  ± 0.7141</td>\n",
       "    </tr>\n",
       "    <tr>\n",
       "      <th>2</th>\n",
       "      <td>MM</td>\n",
       "      <td>0.2000  ± 0.5657</td>\n",
       "      <td>0.9992  ± 0.0023</td>\n",
       "      <td>0.0169  ± 0.0019</td>\n",
       "      <td>0.0072  ± 0.0009</td>\n",
       "      <td>72.5910  ± 10.2621</td>\n",
       "    </tr>\n",
       "    <tr>\n",
       "      <th>3</th>\n",
       "      <td>MM-FISTA</td>\n",
       "      <td>15.2000  ± 38.6937</td>\n",
       "      <td>0.9661  ± 0.0814</td>\n",
       "      <td>0.0685  ± 0.1323</td>\n",
       "      <td>0.0119  ± 0.0205</td>\n",
       "      <td>21.2054  ± 7.2162</td>\n",
       "    </tr>\n",
       "    <tr>\n",
       "      <th>4</th>\n",
       "      <td>MM-adam</td>\n",
       "      <td>0.7200  ± 2.0692</td>\n",
       "      <td>0.9975  ± 0.0062</td>\n",
       "      <td>0.0178  ± 0.0059</td>\n",
       "      <td>0.0052  ± 0.0007</td>\n",
       "      <td>17.7671  ± 3.9768</td>\n",
       "    </tr>\n",
       "    <tr>\n",
       "      <th>5</th>\n",
       "      <td>MM-adam-fix</td>\n",
       "      <td>2.1200  ± 2.8750</td>\n",
       "      <td>0.9914  ± 0.0085</td>\n",
       "      <td>0.0192  ± 0.0102</td>\n",
       "      <td>0.0084  ± 0.0012</td>\n",
       "      <td>15.1349  ± 3.2953</td>\n",
       "    </tr>\n",
       "    <tr>\n",
       "      <th>6</th>\n",
       "      <td>CoLiDe</td>\n",
       "      <td>6.1600  ± 4.2772</td>\n",
       "      <td>0.9783  ± 0.0133</td>\n",
       "      <td>0.0366  ± 0.0161</td>\n",
       "      <td>0.0001  ± 0.0000</td>\n",
       "      <td>33.4869  ± 7.2743</td>\n",
       "    </tr>\n",
       "    <tr>\n",
       "      <th>7</th>\n",
       "      <td>DAGMA</td>\n",
       "      <td>5.4400  ± 4.2622</td>\n",
       "      <td>0.9809  ± 0.0133</td>\n",
       "      <td>0.0348  ± 0.0160</td>\n",
       "      <td>1.0000  ± 0.0000</td>\n",
       "      <td>33.1552  ± 7.6967</td>\n",
       "    </tr>\n",
       "    <tr>\n",
       "      <th>8</th>\n",
       "      <td>NoTears</td>\n",
       "      <td>5.2000  ± 3.1241</td>\n",
       "      <td>0.9805  ± 0.0101</td>\n",
       "      <td>0.0330  ± 0.0149</td>\n",
       "      <td>1.0000  ± 0.0000</td>\n",
       "      <td>186.8967  ± 43.4586</td>\n",
       "    </tr>\n",
       "  </tbody>\n",
       "</table>\n",
       "</div>"
      ],
      "text/plain": [
       "           leg                 shd            fscore               err  \\\n",
       "0    PGD-FISTA    0.1600  ± 0.4630  0.9995  ± 0.0015  0.0210  ± 0.0084   \n",
       "1     PGD-Adam    0.3200  ± 0.6145  0.9986  ± 0.0027  0.0235  ± 0.0043   \n",
       "2           MM    0.2000  ± 0.5657  0.9992  ± 0.0023  0.0169  ± 0.0019   \n",
       "3     MM-FISTA  15.2000  ± 38.6937  0.9661  ± 0.0814  0.0685  ± 0.1323   \n",
       "4      MM-adam    0.7200  ± 2.0692  0.9975  ± 0.0062  0.0178  ± 0.0059   \n",
       "5  MM-adam-fix    2.1200  ± 2.8750  0.9914  ± 0.0085  0.0192  ± 0.0102   \n",
       "6       CoLiDe    6.1600  ± 4.2772  0.9783  ± 0.0133  0.0366  ± 0.0161   \n",
       "7        DAGMA    5.4400  ± 4.2622  0.9809  ± 0.0133  0.0348  ± 0.0160   \n",
       "8      NoTears    5.2000  ± 3.1241  0.9805  ± 0.0101  0.0330  ± 0.0149   \n",
       "\n",
       "               acyc                 time  \n",
       "0  0.7234  ± 0.3196     2.5151  ± 0.9965  \n",
       "1  0.4926  ± 0.2934     2.5296  ± 0.7141  \n",
       "2  0.0072  ± 0.0009   72.5910  ± 10.2621  \n",
       "3  0.0119  ± 0.0205    21.2054  ± 7.2162  \n",
       "4  0.0052  ± 0.0007    17.7671  ± 3.9768  \n",
       "5  0.0084  ± 0.0012    15.1349  ± 3.2953  \n",
       "6  0.0001  ± 0.0000    33.4869  ± 7.2743  \n",
       "7  1.0000  ± 0.0000    33.1552  ± 7.6967  \n",
       "8  1.0000  ± 0.0000  186.8967  ± 43.4586  "
      ]
     },
     "metadata": {},
     "output_type": "display_data"
    }
   ],
   "source": [
    "# M = 1000\n",
    "exps_leg = [exp['leg'] for exp in Exps]\n",
    "utils.display_results(exps_leg, metrics, agg='mean')\n",
    "utils.display_results(exps_leg, metrics, agg='median')"
   ]
  },
  {
   "cell_type": "markdown",
   "metadata": {},
   "source": [
    "# Comparing models - Standarized"
   ]
  },
  {
   "cell_type": "code",
   "execution_count": null,
   "metadata": {},
   "outputs": [],
   "source": [
    "Exps = [\n",
    "    # Proj Grad Desc\n",
    "    {'model': Nonneg_dagma, 'args': {'stepsize': 5e-3, 'alpha': .5, 's': 1, 'lamb': .1, 'max_iters': 20000, 'tol': 1e-5},\n",
    "     'init': {'acyclicity': 'logdet', 'primal_opt': 'fista'}, 'fix_lamb': False, 'standarize': True, 'leg': 'PGD-FISTA'},\n",
    "\n",
    "    {'model': Nonneg_dagma, 'args': {'stepsize': 5e-3, 'alpha': .5, 's': 1, 'lamb': .1, 'max_iters': 20000, 'tol': 1e-5},\n",
    "     'init': {'acyclicity': 'logdet', 'primal_opt': 'adam'}, 'fix_lamb': False, 'standarize': True, 'leg': 'PGD-Adam'},\n",
    "\n",
    "    # Method of Multipliers\n",
    "    {'model': MetMulDagma, 'args': {'stepsize': 3e-4, 'alpha_0': .01, 'rho_0': .05, 's': 1, 'lamb': .1, 'iters_in': 40000,\n",
    "     'iters_out': 10, 'beta': 2}, 'init': {'acyclicity': 'logdet', 'primal_opt': 'pgd'}, 'standarize': True, \n",
    "     'fix_lamb': False, 'leg': 'MM'},\n",
    "\n",
    "    {'model': MetMulDagma, 'args': {'stepsize': 5e-5, 'alpha_0': .5, 'rho_0': .5, 's': 1, 'lamb': .1, 'iters_in': 20000,\n",
    "     'iters_out': 10, 'beta': 2}, 'init': {'acyclicity': 'logdet', 'primal_opt': 'fista'}, 'standarize': True,\n",
    "     'fix_lamb': False, 'leg': 'MM-FISTA'},\n",
    "\n",
    "    {'model': MetMulDagma, 'args': {'stepsize': 3e-4, 'alpha_0': .01, 'rho_0': .05, 's': 1, 'lamb': .1, 'iters_in': 10000,\n",
    "     'iters_out': 10, 'beta': 2}, 'init': {'acyclicity': 'logdet', 'primal_opt': 'adam'}, 'standarize': True,\n",
    "     'fix_lamb': False, 'leg': 'MM-adam'},\n",
    "\n",
    "    {'model': MetMulDagma, 'args': {'stepsize': 3e-4, 'alpha_0': .01, 'rho_0': .05, 's': 1, 'lamb': .05, 'iters_in': 10000,\n",
    "     'iters_out': 10, 'beta': 2}, 'init': {'acyclicity': 'logdet', 'primal_opt': 'adam'}, 'standarize': True,\n",
    "     'fix_lamb': True, 'leg': 'MM-adam-fix'},\n",
    "\n",
    "    # Proj Grad Desc - Mat exp\n",
    "    {'model': Nonneg_dagma, 'args': {'stepsize': 5e-6, 'alpha': 1e5, 's': 1, 'lamb': 2e-4, 'max_iters': 20000, 'tol': 1e-5},\n",
    "     'init': {'acyclicity': 'matexp', 'primal_opt': 'fista'}, 'fix_lamb': False, 'standarize': True, 'leg': 'PGD-matexp'},\n",
    "\n",
    "    # Method of Multipliers - Mat exp\n",
    "    {'model': MetMulDagma, 'args': {'stepsize': 1e-4, 'alpha_0': 1, 'rho_0': 10, 's': 1, 'lamb': .05, 'iters_in': 10000,\n",
    "     'iters_out': 5, 'beta': 10, 'tol': 1e-4}, 'init': {'acyclicity': 'matexp', 'primal_opt': 'fista'}, 'standarize': True,\n",
    "     'fix_lamb': True, 'leg': 'MM-fista-matexp'},\n",
    "\n",
    "    # Colide\n",
    "    {'model': colide_ev, 'args': {'lambda1': .05, 'T': 4, 's': [1.0, .9, .8, .7], 'warm_iter': 2e4,\n",
    "     'max_iter': 7e4, 'lr': .0003}, 'standarize': True, 'leg': 'CoLiDe'},\n",
    "\n",
    "    # DAGMA\n",
    "    {'model': DAGMA_linear, 'init': {'loss_type': 'l2'}, 'args': {'lambda1': .05, 'T': 4, 's': [1.0, .9, .8, .8],\n",
    "     'warm_iter': 2e4, 'max_iter': 7e4, 'lr': .0003}, 'standarize': True, 'leg': 'DAGMA'},\n",
    "\n",
    "    # NoTears\n",
    "    {'model': notears_linear, 'args': {'loss_type': 'l2', 'lambda1': .1, 'max_iter': 100}, 'standarize': True, 'leg': 'NoTears'},\n",
    "]"
   ]
  },
  {
   "cell_type": "markdown",
   "metadata": {},
   "source": [
    "## 4N Edges"
   ]
  },
  {
   "cell_type": "code",
   "execution_count": null,
   "metadata": {},
   "outputs": [
    {
     "name": "stdout",
     "output_type": "stream",
     "text": [
      "CPUs employed: 32\n",
      "26: Fidelity: 100.350  -  Fidelity (norm): 360.430\n",
      "25: Fidelity: 99.762  -  Fidelity (norm): 266.280\n",
      "16: Fidelity: 99.354  -  Fidelity (norm): 338.878\n",
      "10: Fidelity: 99.507  -  Fidelity (norm): 357.485\n",
      "11: Fidelity: 99.970  -  Fidelity (norm): 251.609\n",
      "24: Fidelity: 99.867  -  Fidelity (norm): 335.004\n",
      "14: Fidelity: 98.683  -  Fidelity (norm): 384.531\n",
      "18: Fidelity: 99.427  -  Fidelity (norm): 438.379\n",
      "5: Fidelity: 99.511  -  Fidelity (norm): 459.561\n",
      "4: Fidelity: 98.891  -  Fidelity (norm): 384.318\n",
      "7: Fidelity: 100.306  -  Fidelity (norm): 347.501\n",
      "28: Fidelity: 102.664  -  Fidelity (norm): 378.917\n",
      "19: Fidelity: 100.862  -  Fidelity (norm): 439.882\n",
      "1: Fidelity: 99.975  -  Fidelity (norm): 372.822\n",
      "0: Fidelity: 100.057  -  Fidelity (norm): 516.286\n",
      "21: Fidelity: 100.559  -  Fidelity (norm): 371.004\n",
      "22: Fidelity: 100.104  -  Fidelity (norm): 321.517\n",
      "9: Fidelity: 99.791  -  Fidelity (norm): 279.769\n",
      "23: Fidelity: 100.332  -  Fidelity (norm): 376.308\n",
      "17: Fidelity: 99.653  -  Fidelity (norm): 403.743\n",
      "27: Fidelity: 100.333  -  Fidelity (norm): 349.548\n",
      "15: Fidelity: 101.026  -  Fidelity (norm): 388.670\n",
      "12: Fidelity: 99.465  -  Fidelity (norm): 494.344\n",
      "2: Fidelity: 100.257  -  Fidelity (norm): 453.510\n",
      "6: Fidelity: 100.282  -  Fidelity (norm): 274.345\n",
      "13: Fidelity: 100.221  -  Fidelity (norm): 391.366\n",
      "29: Fidelity: 100.178  -  Fidelity (norm): 583.832\n",
      "20: Fidelity: 100.371  -  Fidelity (norm): 323.579\n",
      "3: Fidelity: 100.448  -  Fidelity (norm): 485.225\n",
      "8: Fidelity: 100.473  -  Fidelity (norm): 303.767\n",
      "\t-PGD-FISTA: shd 0.0  -  err: 0.013  -  time: 4.307\n",
      "\t-PGD-FISTA: shd 0.0  -  err: 0.012  -  time: 5.194\n",
      "\t-PGD-FISTA: shd 0.0  -  err: 0.013  -  time: 5.889\n",
      "\t-PGD-FISTA: shd 0.0  -  err: 0.013  -  time: 6.089\n",
      "\t-PGD-FISTA: shd 0.0  -  err: 0.012  -  time: 5.920\n",
      "\t-PGD-FISTA: shd 0.0  -  err: 0.011  -  time: 6.547\n",
      "\t-PGD-FISTA: shd 0.0  -  err: 0.012  -  time: 7.564\n",
      "\t-PGD-FISTA: shd 0.0  -  err: 0.012  -  time: 7.587\n",
      "\t-PGD-FISTA: shd 0.0  -  err: 0.014  -  time: 8.048\n",
      "\t-PGD-FISTA: shd 0.0  -  err: 0.012  -  time: 8.308\n",
      "\t-PGD-FISTA: shd 0.0  -  err: 0.012  -  time: 8.704\n",
      "\t-PGD-FISTA: shd 0.0  -  err: 0.011  -  time: 8.867\n",
      "\t-PGD-FISTA: shd 0.0  -  err: 0.011  -  time: 8.870\n",
      "\t-PGD-FISTA: shd 0.0  -  err: 0.013  -  time: 9.134\n",
      "\t-PGD-Adam: shd 0.0  -  err: 0.013  -  time: 4.910\n",
      "\t-PGD-FISTA: shd 0.0  -  err: 0.014  -  time: 9.374\n",
      "\t-PGD-FISTA: shd 0.0  -  err: 0.012  -  time: 9.317\n",
      "\t-PGD-FISTA: shd 0.0  -  err: 0.011  -  time: 9.690\n",
      "\t-PGD-FISTA: shd 0.0  -  err: 0.012  -  time: 9.667\n",
      "\t-PGD-FISTA: shd 0.0  -  err: 0.013  -  time: 9.604\n",
      "\t-PGD-FISTA: shd 332.0  -  err: 0.932  -  time: 9.924\n",
      "\t-PGD-FISTA: shd 0.0  -  err: 0.013  -  time: 10.655\n",
      "\t-PGD-FISTA: shd 0.0  -  err: 0.011  -  time: 10.850\n",
      "\t-PGD-Adam: shd 0.0  -  err: 0.012  -  time: 6.047\n",
      "\t-PGD-FISTA: shd 0.0  -  err: 0.013  -  time: 11.898\n",
      "\t-PGD-FISTA: shd 0.0  -  err: 0.012  -  time: 11.922\n",
      "\t-PGD-FISTA: shd 1.0  -  err: 0.014  -  time: 12.380\n",
      "\t-PGD-Adam: shd 0.0  -  err: 0.013  -  time: 6.937\n",
      "\t-PGD-FISTA: shd 0.0  -  err: 0.012  -  time: 13.004\n",
      "\t-PGD-Adam: shd 0.0  -  err: 0.012  -  time: 7.528\n",
      "\t-PGD-FISTA: shd 362.0  -  err: 1.213  -  time: 13.690\n",
      "\t-PGD-FISTA: shd 277.0  -  err: 0.766  -  time: 13.799\n",
      "\t-PGD-FISTA: shd 360.0  -  err: 1.135  -  time: 14.290\n",
      "\t-PGD-FISTA: shd 2.0  -  err: 0.014  -  time: 14.377\n",
      "\t-PGD-Adam: shd 0.0  -  err: 0.012  -  time: 7.571\n",
      "\t-PGD-Adam: shd 0.0  -  err: 0.013  -  time: 10.480\n",
      "\t-PGD-Adam: shd 0.0  -  err: 0.011  -  time: 10.758\n",
      "\t-PGD-Adam: shd 0.0  -  err: 0.013  -  time: 9.811\n",
      "\t-PGD-Adam: shd 0.0  -  err: 0.014  -  time: 10.222\n",
      "\t-PGD-Adam: shd 0.0  -  err: 0.014  -  time: 12.363\n",
      "\t-PGD-Adam: shd 0.0  -  err: 0.012  -  time: 11.308\n",
      "\t-PGD-Adam: shd 0.0  -  err: 0.012  -  time: 8.311\n",
      "\t-PGD-Adam: shd 0.0  -  err: 0.012  -  time: 14.876\n",
      "\t-PGD-Adam: shd 0.0  -  err: 0.012  -  time: 14.982\n",
      "\t-PGD-Adam: shd 0.0  -  err: 0.012  -  time: 14.928\n",
      "\t-PGD-Adam: shd 0.0  -  err: 0.011  -  time: 14.877\n",
      "\t-PGD-Adam: shd 0.0  -  err: 0.011  -  time: 14.928\n",
      "\t-PGD-Adam: shd 0.0  -  err: 0.013  -  time: 14.495\n",
      "\t-PGD-Adam: shd 0.0  -  err: 0.012  -  time: 14.799\n",
      "\t-PGD-Adam: shd 0.0  -  err: 0.011  -  time: 14.908\n",
      "\t-PGD-Adam: shd 0.0  -  err: 0.012  -  time: 15.851\n",
      "\t-PGD-Adam: shd 0.0  -  err: 0.011  -  time: 14.825\n",
      "\t-PGD-Adam: shd 0.0  -  err: 0.013  -  time: 14.093\n",
      "\t-PGD-Adam: shd 0.0  -  err: 0.013  -  time: 15.702\n",
      "\t-PGD-Adam: shd 1.0  -  err: 0.012  -  time: 13.105\n",
      "\t-PGD-Adam: shd 0.0  -  err: 0.012  -  time: 15.841\n",
      "\t-PGD-Adam: shd 1.0  -  err: 0.014  -  time: 16.208\n",
      "\t-PGD-Adam: shd 0.0  -  err: 0.013  -  time: 14.940\n",
      "\t-PGD-Adam: shd 0.0  -  err: 0.012  -  time: 16.295\n",
      "\t-PGD-Adam: shd 3.0  -  err: 0.017  -  time: 16.062\n",
      "\t-MM: shd 0.0  -  err: 0.011  -  time: 57.127\n",
      "\t-MM-FISTA: shd 10.0  -  err: 0.028  -  time: 11.745\n",
      "\t-MM: shd 0.0  -  err: 0.014  -  time: 70.795\n",
      "\t-MM: shd 0.0  -  err: 0.011  -  time: 70.202\n",
      "\t-MM-FISTA: shd 0.0  -  err: 0.010  -  time: 11.967\n",
      "\t-MM-adam: shd 0.0  -  err: 0.010  -  time: 17.991\n",
      "\t-MM-adam: shd 0.0  -  err: 0.010  -  time: 14.754\n",
      "\t-MM-adam-fix: shd 0.0  -  err: 0.013  -  time: 13.788\n"
     ]
    },
    {
     "name": "stderr",
     "output_type": "stream",
     "text": [
      "  0%|          | 0/130000.0 [00:00<?, ?it/s]"
     ]
    },
    {
     "name": "stdout",
     "output_type": "stream",
     "text": [
      "\t-MM-FISTA: shd 56.0  -  err: 0.080  -  time: 27.074\n",
      "\t-MM: shd 0.0  -  err: 0.013  -  time: 102.653\n",
      "\t-MM-adam-fix: shd 1.0  -  err: 0.013  -  time: 15.490\n"
     ]
    },
    {
     "name": "stderr",
     "output_type": "stream",
     "text": [
      "  0%|          | 0/130000.0 [00:00<?, ?it/s]"
     ]
    },
    {
     "name": "stdout",
     "output_type": "stream",
     "text": [
      "\t-MM-adam: shd 0.0  -  err: 0.010  -  time: 20.456\n",
      "\t-MM-FISTA: shd 6.0  -  err: 0.018  -  time: 20.712\n"
     ]
    },
    {
     "name": "stderr",
     "output_type": "stream",
     "text": [
      "  0%|          | 0/130000.0 [00:33<?, ?it/s]\n"
     ]
    },
    {
     "name": "stdout",
     "output_type": "stream",
     "text": [
      "\t-CoLiDe: shd 11.0  -  err: 0.033  -  time: 33.558\n",
      "\t-MM: shd 10.0  -  err: 0.030  -  time: 128.824\n",
      "\t-MM-adam-fix: shd 3.0  -  err: 0.015  -  time: 25.125\n"
     ]
    },
    {
     "name": "stderr",
     "output_type": "stream",
     "text": [
      "  0%|          | 0/130000.0 [00:00<?, ?it/s]"
     ]
    },
    {
     "name": "stdout",
     "output_type": "stream",
     "text": [
      "\t-MM: shd 0.0  -  err: 0.018  -  time: 147.261\n"
     ]
    },
    {
     "name": "stderr",
     "output_type": "stream",
     "text": [
      "  0%|          | 0/130000.0 [00:45<?, ?it/s]\n"
     ]
    },
    {
     "name": "stdout",
     "output_type": "stream",
     "text": [
      "\t-CoLiDe: shd 28.0  -  err: 0.083  -  time: 45.621\n",
      "\t-MM-FISTA: shd 0.0  -  err: 0.009  -  time: 24.397\n",
      "\t-MM-adam: shd 0.0  -  err: 0.010  -  time: 34.492\n",
      "\t-MM-FISTA: shd 1.0  -  err: 0.013  -  time: 18.926\n",
      "\t-MM: shd 4.0  -  err: 0.024  -  time: 156.483\n",
      "\t-DAGMA: shd 11.0  -  err: 0.034  -  time: 39.906\n",
      "\t-MM: shd 2.0  -  err: 0.018  -  time: 166.101\n",
      "\t-MM-adam-fix: shd 1.0  -  err: 0.017  -  time: 27.266\n"
     ]
    },
    {
     "name": "stderr",
     "output_type": "stream",
     "text": [
      "  0%|          | 0/130000.0 [00:00<?, ?it/s]"
     ]
    },
    {
     "name": "stdout",
     "output_type": "stream",
     "text": [
      "\t-MM: shd 14.0  -  err: 0.039  -  time: 177.969\n",
      "\t-MM: shd 1.0  -  err: 0.024  -  time: 183.297\n",
      "\t-MM-adam: shd 0.0  -  err: 0.011  -  time: 25.255\n"
     ]
    },
    {
     "name": "stderr",
     "output_type": "stream",
     "text": [
      "  0%|          | 0/130000.0 [00:53<?, ?it/s]\n"
     ]
    },
    {
     "name": "stdout",
     "output_type": "stream",
     "text": [
      "\t-CoLiDe: shd 10.0  -  err: 0.032  -  time: 53.045\n",
      "\t-MM-FISTA: shd 2.0  -  err: 0.012  -  time: 22.862\n",
      "\t-DAGMA: shd 36.0  -  err: 0.098  -  time: 44.162\n",
      "\t-MM-adam: shd 0.0  -  err: 0.009  -  time: 44.448\n",
      "\t-MM: shd 1.0  -  err: 0.019  -  time: 194.396\n",
      "\t-MM: shd 19.0  -  err: 0.062  -  time: 209.395\n",
      "\t-MM-FISTA: shd 136.0  -  err: 0.193  -  time: 48.170\n",
      "\t-MM-adam-fix: shd 0.0  -  err: 0.011  -  time: 25.486\n"
     ]
    },
    {
     "name": "stderr",
     "output_type": "stream",
     "text": [
      "  0%|          | 0/130000.0 [00:00<?, ?it/s]"
     ]
    },
    {
     "name": "stdout",
     "output_type": "stream",
     "text": [
      "\t-MM-FISTA: shd 17.0  -  err: 0.032  -  time: 31.670\n",
      "\t-MM-adam-fix: shd 5.0  -  err: 0.017  -  time: 25.805\n"
     ]
    },
    {
     "name": "stderr",
     "output_type": "stream",
     "text": [
      "  0%|          | 0/130000.0 [00:00<?, ?it/s]"
     ]
    },
    {
     "name": "stdout",
     "output_type": "stream",
     "text": [
      "\t-MM-adam: shd 0.0  -  err: 0.009  -  time: 30.455\n",
      "\t-MM: shd 15.0  -  err: 0.053  -  time: 226.396\n",
      "\t-MM: shd 9.0  -  err: 0.025  -  time: 224.654\n",
      "\t-MM-FISTA: shd 110.0  -  err: 0.174  -  time: 47.158\n",
      "\t-DAGMA: shd 5.0  -  err: 0.027  -  time: 39.560\n"
     ]
    },
    {
     "name": "stderr",
     "output_type": "stream",
     "text": [
      "  0%|          | 0/130000.0 [00:54<?, ?it/s]\n"
     ]
    },
    {
     "name": "stdout",
     "output_type": "stream",
     "text": [
      "\t-CoLiDe: shd 27.0  -  err: 0.055  -  time: 54.714\n",
      "\t-MM: shd 17.0  -  err: 0.059  -  time: 236.468\n",
      "\t-MM-adam: shd 0.0  -  err: 0.011  -  time: 27.367\n",
      "\t-MM: shd 23.0  -  err: 0.056  -  time: 237.517\n",
      "\t-MM-FISTA: shd 1.0  -  err: 0.013  -  time: 18.668\n",
      "\t-MM: shd 14.0  -  err: 0.043  -  time: 239.738\n",
      "\t-MM: shd 8.0  -  err: 0.036  -  time: 236.138\n",
      "\t-MM-FISTA: shd 0.0  -  err: 0.010  -  time: 19.260\n",
      "\t-MM-adam-fix: shd 6.0  -  err: 0.016  -  time: 25.074\n"
     ]
    },
    {
     "name": "stderr",
     "output_type": "stream",
     "text": [
      "  0%|          | 0/130000.0 [00:00<?, ?it/s]"
     ]
    },
    {
     "name": "stdout",
     "output_type": "stream",
     "text": [
      "\t-MM-adam: shd 0.0  -  err: 0.010  -  time: 38.701\n",
      "\t-MM-adam: shd 0.0  -  err: 0.010  -  time: 25.687\n",
      "\t-MM-FISTA: shd 0.0  -  err: 0.010  -  time: 11.714\n"
     ]
    },
    {
     "name": "stderr",
     "output_type": "stream",
     "text": [
      "  0%|          | 0/130000.0 [00:46<?, ?it/s]\n"
     ]
    },
    {
     "name": "stdout",
     "output_type": "stream",
     "text": [
      "\t-CoLiDe: shd 35.0  -  err: 0.085  -  time: 47.006\n",
      "\t-MM-FISTA: shd 267.0  -  err: 0.518  -  time: 51.819\n",
      "\t-MM-FISTA: shd 341.0  -  err: 0.794  -  time: 62.589\n",
      "\t-MM-FISTA: shd 0.0  -  err: 0.009  -  time: 18.662\n",
      "\t-MM-adam-fix: shd 6.0  -  err: 0.024  -  time: 19.408\n"
     ]
    },
    {
     "name": "stderr",
     "output_type": "stream",
     "text": [
      "  0%|          | 0/130000.0 [00:00<?, ?it/s]"
     ]
    },
    {
     "name": "stdout",
     "output_type": "stream",
     "text": [
      "\t-MM-FISTA: shd 14.0  -  err: 0.025  -  time: 19.737\n",
      "\t-DAGMA: shd 23.0  -  err: 0.054  -  time: 32.413\n",
      "\t-MM-adam-fix: shd 0.0  -  err: 0.015  -  time: 23.056\n"
     ]
    },
    {
     "name": "stderr",
     "output_type": "stream",
     "text": [
      "  0%|          | 0/130000.0 [00:50<?, ?it/s]\n"
     ]
    },
    {
     "name": "stdout",
     "output_type": "stream",
     "text": [
      "\t-CoLiDe: shd 56.0  -  err: 0.130  -  time: 50.232\n",
      "\t-MM-adam-fix: shd 4.0  -  err: 0.022  -  time: 19.995\n"
     ]
    },
    {
     "name": "stderr",
     "output_type": "stream",
     "text": [
      "  0%|          | 0/130000.0 [00:00<?, ?it/s]"
     ]
    },
    {
     "name": "stdout",
     "output_type": "stream",
     "text": [
      "\t-MM-adam: shd 0.0  -  err: 0.010  -  time: 30.053\n",
      "\t-MM-adam: shd 0.0  -  err: 0.011  -  time: 34.541\n",
      "\t-MM-adam: shd 0.0  -  err: 0.010  -  time: 20.510\n",
      "\t-MM-adam: shd 0.0  -  err: 0.010  -  time: 24.804\n",
      "\t-DAGMA: shd 32.0  -  err: 0.078  -  time: 27.919\n",
      "\t-MM-adam: shd 0.0  -  err: 0.010  -  time: 31.997\n",
      "\t-MM-FISTA: shd 295.0  -  err: 0.593  -  time: 46.145\n"
     ]
    },
    {
     "name": "stderr",
     "output_type": "stream",
     "text": [
      "  0%|          | 0/130000.0 [00:49<?, ?it/s]\n"
     ]
    },
    {
     "name": "stdout",
     "output_type": "stream",
     "text": [
      "\t-CoLiDe: shd 29.0  -  err: 0.076  -  time: 49.730\n",
      "\t-MM-adam: shd 0.0  -  err: 0.010  -  time: 33.747\n",
      "\t-MM-adam: shd 0.0  -  err: 0.009  -  time: 37.897\n",
      "\t-MM-adam-fix: shd 0.0  -  err: 0.015  -  time: 22.200\n",
      "\t-MM-adam-fix: shd 0.0  -  err: 0.014  -  time: 23.810\n"
     ]
    },
    {
     "name": "stderr",
     "output_type": "stream",
     "text": [
      "  0%|          | 0/130000.0 [00:31<?, ?it/s]\n"
     ]
    },
    {
     "name": "stdout",
     "output_type": "stream",
     "text": [
      "\t-CoLiDe: shd 12.0  -  err: 0.043  -  time: 31.808\n"
     ]
    },
    {
     "name": "stderr",
     "output_type": "stream",
     "text": [
      "  0%|          | 0/130000.0 [00:46<?, ?it/s]\n",
      "  0%|          | 0/130000.0 [00:00<?, ?it/s]"
     ]
    },
    {
     "name": "stdout",
     "output_type": "stream",
     "text": [
      "\t-CoLiDe: shd 16.0  -  err: 0.051  -  time: 46.803\n",
      "\t-MM-adam-fix: shd 2.0  -  err: 0.014  -  time: 31.608\n",
      "\t-MM-adam-fix: shd 1.0  -  err: 0.018  -  time: 27.836\n"
     ]
    },
    {
     "name": "stderr",
     "output_type": "stream",
     "text": [
      "  0%|          | 0/130000.0 [00:00<?, ?it/s]"
     ]
    },
    {
     "name": "stdout",
     "output_type": "stream",
     "text": [
      "\t-DAGMA: shd 57.0  -  err: 0.130  -  time: 38.674\n",
      "\t-MM-adam-fix: shd 4.0  -  err: 0.023  -  time: 22.316\n"
     ]
    },
    {
     "name": "stderr",
     "output_type": "stream",
     "text": [
      "  0%|          | 0/130000.0 [00:00<?, ?it/s]"
     ]
    },
    {
     "name": "stdout",
     "output_type": "stream",
     "text": [
      "\t-MM: shd 27.0  -  err: 0.076  -  time: 308.008\n"
     ]
    },
    {
     "name": "stderr",
     "output_type": "stream",
     "text": [
      "  0%|          | 0/130000.0 [00:45<?, ?it/s]\n"
     ]
    },
    {
     "name": "stdout",
     "output_type": "stream",
     "text": [
      "\t-CoLiDe: shd 48.0  -  err: 0.099  -  time: 45.342\n",
      "\t-MM-adam-fix: shd 5.0  -  err: 0.018  -  time: 23.932\n"
     ]
    },
    {
     "name": "stderr",
     "output_type": "stream",
     "text": [
      "  0%|          | 0/130000.0 [00:00<?, ?it/s]"
     ]
    },
    {
     "name": "stdout",
     "output_type": "stream",
     "text": [
      "\t-MM-adam-fix: shd 0.0  -  err: 0.013  -  time: 26.772\n"
     ]
    },
    {
     "name": "stderr",
     "output_type": "stream",
     "text": [
      "  0%|          | 0/130000.0 [00:00<?, ?it/s]"
     ]
    },
    {
     "name": "stdout",
     "output_type": "stream",
     "text": [
      "\t-MM-adam: shd 0.0  -  err: 0.011  -  time: 34.389\n"
     ]
    },
    {
     "name": "stderr",
     "output_type": "stream",
     "text": [
      "  0%|          | 0/130000.0 [00:30<?, ?it/s]\n"
     ]
    },
    {
     "name": "stdout",
     "output_type": "stream",
     "text": [
      "\t-CoLiDe: shd 13.0  -  err: 0.043  -  time: 30.115\n",
      "\t-MM: shd 99.0  -  err: 0.202  -  time: 324.245\n",
      "\t-MM: shd 49.0  -  err: 0.125  -  time: 328.005\n",
      "\t-MM: shd 51.0  -  err: 0.127  -  time: 328.124\n",
      "\t-DAGMA: shd 12.0  -  err: 0.046  -  time: 29.374\n",
      "\t-MM-FISTA: shd 0.0  -  err: 0.010  -  time: 24.994\n",
      "\t-DAGMA: shd 28.0  -  err: 0.081  -  time: 43.426\n",
      "\t-MM: shd 28.0  -  err: 0.082  -  time: 337.062\n",
      "\t-MM-FISTA: shd 0.0  -  err: 0.010  -  time: 13.544\n",
      "\t-MM-adam-fix: shd 2.0  -  err: 0.015  -  time: 25.764\n"
     ]
    },
    {
     "name": "stderr",
     "output_type": "stream",
     "text": [
      "  0%|          | 0/130000.0 [00:00<?, ?it/s]"
     ]
    },
    {
     "name": "stdout",
     "output_type": "stream",
     "text": [
      "\t-DAGMA: shd 34.0  -  err: 0.078  -  time: 38.226\n",
      "\t-DAGMA: shd 16.0  -  err: 0.053  -  time: 45.853\n",
      "\t-MM-FISTA: shd 0.0  -  err: 0.010  -  time: 20.557\n"
     ]
    },
    {
     "name": "stderr",
     "output_type": "stream",
     "text": [
      "  0%|          | 0/130000.0 [00:46<?, ?it/s]\n"
     ]
    },
    {
     "name": "stdout",
     "output_type": "stream",
     "text": [
      "\t-CoLiDe: shd 51.0  -  err: 0.120  -  time: 46.799\n"
     ]
    },
    {
     "name": "stderr",
     "output_type": "stream",
     "text": [
      "  0%|          | 0/130000.0 [00:49<?, ?it/s]\n"
     ]
    },
    {
     "name": "stdout",
     "output_type": "stream",
     "text": [
      "\t-CoLiDe: shd 25.0  -  err: 0.073  -  time: 49.962\n"
     ]
    },
    {
     "name": "stderr",
     "output_type": "stream",
     "text": [
      "  0%|          | 0/130000.0 [00:58<?, ?it/s]\n"
     ]
    },
    {
     "name": "stdout",
     "output_type": "stream",
     "text": [
      "\t-CoLiDe: shd 44.0  -  err: 0.123  -  time: 58.381\n"
     ]
    },
    {
     "name": "stderr",
     "output_type": "stream",
     "text": [
      "  0%|          | 0/130000.0 [00:49<?, ?it/s]\n"
     ]
    },
    {
     "name": "stdout",
     "output_type": "stream",
     "text": [
      "\t-CoLiDe: shd 53.0  -  err: 0.129  -  time: 49.216\n",
      "\t-MM: shd 102.0  -  err: 0.236  -  time: 357.194\n",
      "\t-MM-FISTA: shd 23.0  -  err: 0.047  -  time: 32.665\n",
      "\t-DAGMA: shd 11.0  -  err: 0.045  -  time: 37.074\n",
      "\t-MM: shd 254.0  -  err: 0.534  -  time: 369.000\n",
      "\t-MM-FISTA: shd 0.0  -  err: 0.010  -  time: 30.736\n",
      "\t-MM: shd 82.0  -  err: 0.164  -  time: 372.313\n"
     ]
    },
    {
     "name": "stderr",
     "output_type": "stream",
     "text": [
      "  0%|          | 0/130000.0 [00:56<?, ?it/s]\n"
     ]
    },
    {
     "name": "stdout",
     "output_type": "stream",
     "text": [
      "\t-CoLiDe: shd 50.0  -  err: 0.102  -  time: 56.130\n",
      "\t-MM: shd 79.0  -  err: 0.146  -  time: 371.321\n",
      "\t-MM-adam: shd 0.0  -  err: 0.010  -  time: 41.387\n"
     ]
    },
    {
     "name": "stderr",
     "output_type": "stream",
     "text": [
      "  0%|          | 0/130000.0 [01:00<?, ?it/s]\n"
     ]
    },
    {
     "name": "stdout",
     "output_type": "stream",
     "text": [
      "\t-CoLiDe: shd 22.0  -  err: 0.060  -  time: 60.103\n",
      "\t-MM: shd 92.0  -  err: 0.198  -  time: 380.430\n",
      "\t-MM-adam: shd 0.0  -  err: 0.010  -  time: 43.823\n",
      "\t-MM-FISTA: shd 0.0  -  err: 0.011  -  time: 21.340\n",
      "\t-MM-FISTA: shd 68.0  -  err: 0.105  -  time: 29.510\n",
      "\t-MM-adam: shd 4.0  -  err: 0.017  -  time: 39.815\n",
      "\t-DAGMA: shd 17.0  -  err: 0.060  -  time: 36.924\n",
      "\t-DAGMA: shd 41.0  -  err: 0.101  -  time: 41.298\n",
      "\t-MM-FISTA: shd 0.0  -  err: 0.011  -  time: 21.965\n",
      "\t-MM-FISTA: shd 3.0  -  err: 0.018  -  time: 29.094\n"
     ]
    },
    {
     "name": "stderr",
     "output_type": "stream",
     "text": [
      "  0%|          | 0/130000.0 [00:51<?, ?it/s]\n"
     ]
    },
    {
     "name": "stdout",
     "output_type": "stream",
     "text": [
      "\t-CoLiDe: shd 20.0  -  err: 0.058  -  time: 51.141\n",
      "\t-MM-adam: shd 1.0  -  err: 0.010  -  time: 37.207\n",
      "\t-DAGMA: shd 53.0  -  err: 0.129  -  time: 44.920\n",
      "\t-MM-adam-fix: shd 1.0  -  err: 0.019  -  time: 26.766\n"
     ]
    },
    {
     "name": "stderr",
     "output_type": "stream",
     "text": [
      "  0%|          | 0/130000.0 [00:00<?, ?it/s]"
     ]
    },
    {
     "name": "stdout",
     "output_type": "stream",
     "text": [
      "\t-DAGMA: shd 13.0  -  err: 0.058  -  time: 49.159\n",
      "\t-MM-FISTA: shd 1.0  -  err: 0.011  -  time: 21.498\n",
      "\t-MM-adam: shd 0.0  -  err: 0.010  -  time: 46.528\n",
      "\t-DAGMA: shd 37.0  -  err: 0.103  -  time: 48.094\n",
      "\t-MM: shd 202.0  -  err: 0.543  -  time: 421.660\n",
      "\t-MM-adam-fix: shd 1.0  -  err: 0.015  -  time: 34.453\n"
     ]
    },
    {
     "name": "stderr",
     "output_type": "stream",
     "text": [
      "  0%|          | 0/130000.0 [00:00<?, ?it/s]"
     ]
    },
    {
     "name": "stdout",
     "output_type": "stream",
     "text": [
      "\t-DAGMA: shd 19.0  -  err: 0.054  -  time: 41.772\n",
      "\t-MM-adam-fix: shd 2.0  -  err: 0.017  -  time: 34.367\n"
     ]
    },
    {
     "name": "stderr",
     "output_type": "stream",
     "text": [
      "  0%|          | 0/130000.0 [00:00<?, ?it/s]"
     ]
    },
    {
     "name": "stdout",
     "output_type": "stream",
     "text": [
      "\t-MM: shd 237.0  -  err: 0.507  -  time: 419.726\n",
      "\t-MM-adam: shd 0.0  -  err: 0.009  -  time: 37.222\n",
      "\t-MM-adam: shd 0.0  -  err: 0.011  -  time: 38.854\n",
      "\t-MM-adam-fix: shd 5.0  -  err: 0.029  -  time: 32.809\n"
     ]
    },
    {
     "name": "stderr",
     "output_type": "stream",
     "text": [
      "  0%|          | 0/130000.0 [00:00<?, ?it/s]"
     ]
    },
    {
     "name": "stdout",
     "output_type": "stream",
     "text": [
      "\t-MM-adam: shd 1.0  -  err: 0.011  -  time: 36.474\n",
      "\t-MM-adam: shd 0.0  -  err: 0.011  -  time: 49.882\n",
      "\t-MM-adam: shd 0.0  -  err: 0.010  -  time: 52.826\n",
      "\t-MM-FISTA: shd 1.0  -  err: 0.012  -  time: 22.155\n",
      "\t-MM-adam-fix: shd 1.0  -  err: 0.016  -  time: 40.261\n"
     ]
    },
    {
     "name": "stderr",
     "output_type": "stream",
     "text": [
      "  0%|          | 0/130000.0 [00:00<?, ?it/s]"
     ]
    },
    {
     "name": "stdout",
     "output_type": "stream",
     "text": [
      "\t-DAGMA: shd 12.0  -  err: 0.047  -  time: 59.319\n",
      "\t-MM-adam-fix: shd 2.0  -  err: 0.016  -  time: 29.324\n"
     ]
    },
    {
     "name": "stderr",
     "output_type": "stream",
     "text": [
      "  0%|          | 0/130000.0 [01:08<?, ?it/s]\n"
     ]
    },
    {
     "name": "stdout",
     "output_type": "stream",
     "text": [
      "\t-CoLiDe: shd 39.0  -  err: 0.101  -  time: 68.053\n",
      "\t-MM-FISTA: shd 106.0  -  err: 0.165  -  time: 49.803\n",
      "\t-MM-adam-fix: shd 0.0  -  err: 0.014  -  time: 46.070\n"
     ]
    },
    {
     "name": "stderr",
     "output_type": "stream",
     "text": [
      "  0%|          | 0/130000.0 [00:00<?, ?it/s]"
     ]
    },
    {
     "name": "stdout",
     "output_type": "stream",
     "text": [
      "\t-MM-adam-fix: shd 1.0  -  err: 0.019  -  time: 31.503\n"
     ]
    },
    {
     "name": "stderr",
     "output_type": "stream",
     "text": [
      "  0%|          | 0/130000.0 [00:00<?, ?it/s]"
     ]
    },
    {
     "name": "stdout",
     "output_type": "stream",
     "text": [
      "\t-MM-adam: shd 1.0  -  err: 0.011  -  time: 47.627\n",
      "\t-MM-adam-fix: shd 2.0  -  err: 0.020  -  time: 48.714\n"
     ]
    },
    {
     "name": "stderr",
     "output_type": "stream",
     "text": [
      "  0%|          | 0/130000.0 [00:00<?, ?it/s]"
     ]
    },
    {
     "name": "stdout",
     "output_type": "stream",
     "text": [
      "\t-MM-adam-fix: shd 1.0  -  err: 0.018  -  time: 53.957\n"
     ]
    },
    {
     "name": "stderr",
     "output_type": "stream",
     "text": [
      "  0%|          | 0/130000.0 [01:16<?, ?it/s]\n"
     ]
    },
    {
     "name": "stdout",
     "output_type": "stream",
     "text": [
      "\t-CoLiDe: shd 26.0  -  err: 0.075  -  time: 76.147\n"
     ]
    },
    {
     "name": "stderr",
     "output_type": "stream",
     "text": [
      "  0%|          | 0/130000.0 [01:16<?, ?it/s]\n"
     ]
    },
    {
     "name": "stdout",
     "output_type": "stream",
     "text": [
      "\t-CoLiDe: shd 32.0  -  err: 0.072  -  time: 76.577\n",
      "\t-NoTears: shd 24.0  -  err: 0.082  -  time: 355.057\n"
     ]
    },
    {
     "name": "stderr",
     "output_type": "stream",
     "text": [
      "  0%|          | 0/130000.0 [01:34<?, ?it/s]\n"
     ]
    },
    {
     "name": "stdout",
     "output_type": "stream",
     "text": [
      "\t-CoLiDe: shd 24.0  -  err: 0.066  -  time: 94.366\n",
      "\t-DAGMA: shd 36.0  -  err: 0.105  -  time: 50.325\n",
      "\t-MM-adam: shd 0.0  -  err: 0.009  -  time: 56.964\n"
     ]
    },
    {
     "name": "stderr",
     "output_type": "stream",
     "text": [
      "  0%|          | 0/130000.0 [01:17<?, ?it/s]\n"
     ]
    },
    {
     "name": "stdout",
     "output_type": "stream",
     "text": [
      "\t-CoLiDe: shd 32.0  -  err: 0.071  -  time: 77.925\n"
     ]
    },
    {
     "name": "stderr",
     "output_type": "stream",
     "text": [
      "  0%|          | 0/130000.0 [01:32<?, ?it/s]\n",
      "  0%|          | 0/130000.0 [00:00<?, ?it/s]"
     ]
    },
    {
     "name": "stdout",
     "output_type": "stream",
     "text": [
      "\t-MM-adam-fix: shd 8.0  -  err: 0.028  -  time: 51.719\n",
      "\t-CoLiDe: shd 61.0  -  err: 0.149  -  time: 92.979\n",
      "\t-DAGMA: shd 27.0  -  err: 0.075  -  time: 50.643\n"
     ]
    },
    {
     "name": "stderr",
     "output_type": "stream",
     "text": [
      "  0%|          | 0/130000.0 [01:24<?, ?it/s]\n"
     ]
    },
    {
     "name": "stdout",
     "output_type": "stream",
     "text": [
      "\t-CoLiDe: shd 41.0  -  err: 0.092  -  time: 84.782\n",
      "\t-DAGMA: shd 23.0  -  err: 0.059  -  time: 53.312\n"
     ]
    },
    {
     "name": "stderr",
     "output_type": "stream",
     "text": [
      "  0%|          | 0/130000.0 [01:35<?, ?it/s]\n"
     ]
    },
    {
     "name": "stdout",
     "output_type": "stream",
     "text": [
      "\t-CoLiDe: shd 17.0  -  err: 0.046  -  time: 95.441\n",
      "\t-MM-adam-fix: shd 0.0  -  err: 0.016  -  time: 41.317\n"
     ]
    },
    {
     "name": "stderr",
     "output_type": "stream",
     "text": [
      "  0%|          | 0/130000.0 [00:00<?, ?it/s]"
     ]
    },
    {
     "name": "stdout",
     "output_type": "stream",
     "text": [
      "\t-DAGMA: shd 22.0  -  err: 0.064  -  time: 56.512\n",
      "\t-DAGMA: shd 24.0  -  err: 0.062  -  time: 55.352\n"
     ]
    },
    {
     "name": "stderr",
     "output_type": "stream",
     "text": [
      "  0%|          | 0/130000.0 [01:37<?, ?it/s]\n"
     ]
    },
    {
     "name": "stdout",
     "output_type": "stream",
     "text": [
      "\t-CoLiDe: shd 31.0  -  err: 0.070  -  time: 97.499\n",
      "\t-NoTears: shd 21.0  -  err: 0.067  -  time: 381.974\n",
      "\t-DAGMA: shd 55.0  -  err: 0.119  -  time: 49.701\n"
     ]
    },
    {
     "name": "stderr",
     "output_type": "stream",
     "text": [
      "  0%|          | 0/130000.0 [01:53<?, ?it/s]\n"
     ]
    },
    {
     "name": "stdout",
     "output_type": "stream",
     "text": [
      "\t-CoLiDe: shd 44.0  -  err: 0.088  -  time: 113.347\n",
      "\t-DAGMA: shd 14.0  -  err: 0.043  -  time: 56.028\n",
      "\t-DAGMA: shd 36.0  -  err: 0.094  -  time: 78.480\n"
     ]
    },
    {
     "name": "stderr",
     "output_type": "stream",
     "text": [
      "  0%|          | 0/130000.0 [01:25<?, ?it/s]\n"
     ]
    },
    {
     "name": "stdout",
     "output_type": "stream",
     "text": [
      "\t-CoLiDe: shd 30.0  -  err: 0.088  -  time: 85.016\n",
      "\t-DAGMA: shd 42.0  -  err: 0.102  -  time: 47.084\n",
      "\t-DAGMA: shd 44.0  -  err: 0.093  -  time: 80.279\n"
     ]
    },
    {
     "name": "stderr",
     "output_type": "stream",
     "text": [
      "  0%|          | 0/130000.0 [02:41<?, ?it/s]\n"
     ]
    },
    {
     "name": "stdout",
     "output_type": "stream",
     "text": [
      "\t-CoLiDe: shd 44.0  -  err: 0.097  -  time: 161.493\n",
      "\t-DAGMA: shd 28.0  -  err: 0.091  -  time: 72.034\n",
      "\t-DAGMA: shd 70.0  -  err: 0.134  -  time: 122.318\n",
      "\t-NoTears: shd 31.0  -  err: 0.085  -  time: 553.880\n",
      "\t-NoTears: shd 55.0  -  err: 0.141  -  time: 698.109\n",
      "\t-NoTears: shd 28.0  -  err: 0.082  -  time: 660.270\n",
      "\t-NoTears: shd 24.0  -  err: 0.067  -  time: 789.013\n",
      "\t-NoTears: shd 23.0  -  err: 0.071  -  time: 707.888\n",
      "\t-NoTears: shd 77.0  -  err: 0.180  -  time: 775.003\n",
      "\t-NoTears: shd 37.0  -  err: 0.093  -  time: 677.460\n",
      "\t-NoTears: shd 41.0  -  err: 0.081  -  time: 846.150\n",
      "\t-NoTears: shd 47.0  -  err: 0.137  -  time: 1080.165\n",
      "\t-NoTears: shd 57.0  -  err: 0.152  -  time: 891.720\n",
      "\t-NoTears: shd 70.0  -  err: 0.159  -  time: 778.274\n",
      "\t-NoTears: shd 51.0  -  err: 0.134  -  time: 1069.880\n",
      "\t-NoTears: shd 63.0  -  err: 0.176  -  time: 954.576\n",
      "\t-NoTears: shd 69.0  -  err: 0.174  -  time: 840.213\n",
      "\t-NoTears: shd 87.0  -  err: 0.229  -  time: 1072.547\n",
      "\t-NoTears: shd 75.0  -  err: 0.190  -  time: 1065.538\n",
      "\t-NoTears: shd 25.0  -  err: 0.059  -  time: 1206.655\n",
      "\t-NoTears: shd 75.0  -  err: 0.197  -  time: 955.616\n",
      "\t-NoTears: shd 51.0  -  err: 0.142  -  time: 1022.493\n",
      "\t-NoTears: shd 52.0  -  err: 0.146  -  time: 863.100\n",
      "\t-NoTears: shd 72.0  -  err: 0.196  -  time: 988.852\n",
      "\t-NoTears: shd 73.0  -  err: 0.202  -  time: 1098.743\n",
      "\t-NoTears: shd 60.0  -  err: 0.149  -  time: 962.715\n",
      "\t-NoTears: shd 88.0  -  err: 0.248  -  time: 1218.657\n",
      "\t-NoTears: shd 61.0  -  err: 0.158  -  time: 1071.688\n",
      "\t-NoTears: shd 76.0  -  err: 0.166  -  time: 1037.170\n",
      "\t-NoTears: shd 93.0  -  err: 0.202  -  time: 1016.850\n",
      "\t-NoTears: shd 107.0  -  err: 0.234  -  time: 952.650\n",
      "----- Solved in 1815.624 seconds -----\n"
     ]
    }
   ],
   "source": [
    "N = 100\n",
    "\n",
    "n_dags = 30\n",
    "verb=True\n",
    "data_params = {\n",
    "    'n_nodes': N,\n",
    "    'n_samples': 500, # 1000,\n",
    "    'graph_type': 'er',\n",
    "    'edges': 4*N,\n",
    "    'edge_type': 'positive',\n",
    "    'w_range': (.5, 1),\n",
    "    'var': 1\n",
    "}\n",
    "\n",
    "print('CPUs employed:', N_CPUS)\n",
    "\n",
    "t_init = time.time()\n",
    "results = Parallel(n_jobs=N_CPUS)(delayed(run_exps)(g, data_params, Exps, thr=.2, verb=verb) for g in range(n_dags))\n",
    "ellapsed_time = (time.time() - t_init)/60\n",
    "print(f'----- Solved in {ellapsed_time:.3f} seminutesconds -----')\n",
    "\n",
    "# Extract results\n",
    "shd, fscore, err, acyc, runtime = zip(*results)\n",
    "metrics = {'shd': shd, 'fscore': fscore, 'err': err, 'acyc': acyc, 'time': runtime}\n"
   ]
  },
  {
   "cell_type": "code",
   "execution_count": null,
   "metadata": {},
   "outputs": [
    {
     "data": {
      "text/html": [
       "<div>\n",
       "<style scoped>\n",
       "    .dataframe tbody tr th:only-of-type {\n",
       "        vertical-align: middle;\n",
       "    }\n",
       "\n",
       "    .dataframe tbody tr th {\n",
       "        vertical-align: top;\n",
       "    }\n",
       "\n",
       "    .dataframe thead th {\n",
       "        text-align: right;\n",
       "    }\n",
       "</style>\n",
       "<table border=\"1\" class=\"dataframe\">\n",
       "  <thead>\n",
       "    <tr style=\"text-align: right;\">\n",
       "      <th></th>\n",
       "      <th>leg</th>\n",
       "      <th>shd</th>\n",
       "      <th>fscore</th>\n",
       "      <th>err</th>\n",
       "      <th>acyc</th>\n",
       "      <th>time</th>\n",
       "    </tr>\n",
       "  </thead>\n",
       "  <tbody>\n",
       "    <tr>\n",
       "      <th>0</th>\n",
       "      <td>PGD-FISTA</td>\n",
       "      <td>44.4667  ± 113.7663</td>\n",
       "      <td>0.9300  ± 0.1799</td>\n",
       "      <td>0.1456  ± 0.3455</td>\n",
       "      <td>1.4809  ± 0.4419</td>\n",
       "      <td>9.5156  ± 2.7243</td>\n",
       "    </tr>\n",
       "    <tr>\n",
       "      <th>1</th>\n",
       "      <td>PGD-Adam</td>\n",
       "      <td>0.1667  ± 0.5821</td>\n",
       "      <td>0.9997  ± 0.0013</td>\n",
       "      <td>0.0125  ± 0.0012</td>\n",
       "      <td>1.6319  ± 0.2605</td>\n",
       "      <td>12.5988  ± 3.4132</td>\n",
       "    </tr>\n",
       "    <tr>\n",
       "      <th>2</th>\n",
       "      <td>MM</td>\n",
       "      <td>47.9667  ± 68.9630</td>\n",
       "      <td>0.9396  ± 0.0842</td>\n",
       "      <td>0.1166  ± 0.1506</td>\n",
       "      <td>0.0075  ± 0.0238</td>\n",
       "      <td>246.0834  ± 106.3629</td>\n",
       "    </tr>\n",
       "    <tr>\n",
       "      <th>3</th>\n",
       "      <td>MM-FISTA</td>\n",
       "      <td>48.6000  ± 92.1041</td>\n",
       "      <td>0.9361  ± 0.1270</td>\n",
       "      <td>0.0987  ± 0.1895</td>\n",
       "      <td>0.0764  ± 0.2068</td>\n",
       "      <td>27.7045  ± 13.0354</td>\n",
       "    </tr>\n",
       "    <tr>\n",
       "      <th>4</th>\n",
       "      <td>MM-adam</td>\n",
       "      <td>0.2333  ± 0.7608</td>\n",
       "      <td>0.9996  ± 0.0014</td>\n",
       "      <td>0.0103  ± 0.0014</td>\n",
       "      <td>0.0020  ± 0.0007</td>\n",
       "      <td>35.2052  ± 10.1880</td>\n",
       "    </tr>\n",
       "    <tr>\n",
       "      <th>5</th>\n",
       "      <td>MM-adam-fix</td>\n",
       "      <td>2.1333  ± 2.1868</td>\n",
       "      <td>0.9967  ± 0.0038</td>\n",
       "      <td>0.0174  ± 0.0043</td>\n",
       "      <td>0.0121  ± 0.0035</td>\n",
       "      <td>29.8664  ± 10.0082</td>\n",
       "    </tr>\n",
       "    <tr>\n",
       "      <th>6</th>\n",
       "      <td>CoLiDe</td>\n",
       "      <td>32.3667  ± 14.1197</td>\n",
       "      <td>0.9489  ± 0.0201</td>\n",
       "      <td>0.0803  ± 0.0296</td>\n",
       "      <td>0.0003  ± 0.0000</td>\n",
       "      <td>66.1110  ± 27.7100</td>\n",
       "    </tr>\n",
       "    <tr>\n",
       "      <th>7</th>\n",
       "      <td>DAGMA</td>\n",
       "      <td>29.2667  ± 15.6481</td>\n",
       "      <td>0.9535  ± 0.0220</td>\n",
       "      <td>0.0773  ± 0.0293</td>\n",
       "      <td>1.0000  ± 0.0000</td>\n",
       "      <td>50.3380  ± 18.2213</td>\n",
       "    </tr>\n",
       "    <tr>\n",
       "      <th>8</th>\n",
       "      <td>NoTears</td>\n",
       "      <td>57.1000  ± 23.0570</td>\n",
       "      <td>0.9152  ± 0.0316</td>\n",
       "      <td>0.1466  ± 0.0538</td>\n",
       "      <td>1.0000  ± 0.0000</td>\n",
       "      <td>886.4303  ± 213.3939</td>\n",
       "    </tr>\n",
       "  </tbody>\n",
       "</table>\n",
       "</div>"
      ],
      "text/plain": [
       "           leg                  shd            fscore               err  \\\n",
       "0    PGD-FISTA  44.4667  ± 113.7663  0.9300  ± 0.1799  0.1456  ± 0.3455   \n",
       "1     PGD-Adam     0.1667  ± 0.5821  0.9997  ± 0.0013  0.0125  ± 0.0012   \n",
       "2           MM   47.9667  ± 68.9630  0.9396  ± 0.0842  0.1166  ± 0.1506   \n",
       "3     MM-FISTA   48.6000  ± 92.1041  0.9361  ± 0.1270  0.0987  ± 0.1895   \n",
       "4      MM-adam     0.2333  ± 0.7608  0.9996  ± 0.0014  0.0103  ± 0.0014   \n",
       "5  MM-adam-fix     2.1333  ± 2.1868  0.9967  ± 0.0038  0.0174  ± 0.0043   \n",
       "6       CoLiDe   32.3667  ± 14.1197  0.9489  ± 0.0201  0.0803  ± 0.0296   \n",
       "7        DAGMA   29.2667  ± 15.6481  0.9535  ± 0.0220  0.0773  ± 0.0293   \n",
       "8      NoTears   57.1000  ± 23.0570  0.9152  ± 0.0316  0.1466  ± 0.0538   \n",
       "\n",
       "               acyc                  time  \n",
       "0  1.4809  ± 0.4419      9.5156  ± 2.7243  \n",
       "1  1.6319  ± 0.2605     12.5988  ± 3.4132  \n",
       "2  0.0075  ± 0.0238  246.0834  ± 106.3629  \n",
       "3  0.0764  ± 0.2068    27.7045  ± 13.0354  \n",
       "4  0.0020  ± 0.0007    35.2052  ± 10.1880  \n",
       "5  0.0121  ± 0.0035    29.8664  ± 10.0082  \n",
       "6  0.0003  ± 0.0000    66.1110  ± 27.7100  \n",
       "7  1.0000  ± 0.0000    50.3380  ± 18.2213  \n",
       "8  1.0000  ± 0.0000  886.4303  ± 213.3939  "
      ]
     },
     "metadata": {},
     "output_type": "display_data"
    },
    {
     "data": {
      "text/html": [
       "<div>\n",
       "<style scoped>\n",
       "    .dataframe tbody tr th:only-of-type {\n",
       "        vertical-align: middle;\n",
       "    }\n",
       "\n",
       "    .dataframe tbody tr th {\n",
       "        vertical-align: top;\n",
       "    }\n",
       "\n",
       "    .dataframe thead th {\n",
       "        text-align: right;\n",
       "    }\n",
       "</style>\n",
       "<table border=\"1\" class=\"dataframe\">\n",
       "  <thead>\n",
       "    <tr style=\"text-align: right;\">\n",
       "      <th></th>\n",
       "      <th>leg</th>\n",
       "      <th>shd</th>\n",
       "      <th>fscore</th>\n",
       "      <th>err</th>\n",
       "      <th>acyc</th>\n",
       "      <th>time</th>\n",
       "    </tr>\n",
       "  </thead>\n",
       "  <tbody>\n",
       "    <tr>\n",
       "      <th>0</th>\n",
       "      <td>PGD-FISTA</td>\n",
       "      <td>0.0000  ± 113.7663</td>\n",
       "      <td>1.0000  ± 0.1799</td>\n",
       "      <td>0.0125  ± 0.3455</td>\n",
       "      <td>1.5558  ± 0.4419</td>\n",
       "      <td>9.3453  ± 2.7243</td>\n",
       "    </tr>\n",
       "    <tr>\n",
       "      <th>1</th>\n",
       "      <td>PGD-Adam</td>\n",
       "      <td>0.0000  ± 0.5821</td>\n",
       "      <td>1.0000  ± 0.0013</td>\n",
       "      <td>0.0123  ± 0.0012</td>\n",
       "      <td>1.6349  ± 0.2605</td>\n",
       "      <td>14.6472  ± 3.4132</td>\n",
       "    </tr>\n",
       "    <tr>\n",
       "      <th>2</th>\n",
       "      <td>MM</td>\n",
       "      <td>16.0000  ± 68.9630</td>\n",
       "      <td>0.9743  ± 0.0842</td>\n",
       "      <td>0.0548  ± 0.1506</td>\n",
       "      <td>0.0015  ± 0.0238</td>\n",
       "      <td>236.3029  ± 106.3629</td>\n",
       "    </tr>\n",
       "    <tr>\n",
       "      <th>3</th>\n",
       "      <td>MM-FISTA</td>\n",
       "      <td>1.5000  ± 92.1041</td>\n",
       "      <td>0.9969  ± 0.1270</td>\n",
       "      <td>0.0127  ± 0.1895</td>\n",
       "      <td>0.0041  ± 0.2068</td>\n",
       "      <td>22.5085  ± 13.0354</td>\n",
       "    </tr>\n",
       "    <tr>\n",
       "      <th>4</th>\n",
       "      <td>MM-adam</td>\n",
       "      <td>0.0000  ± 0.7608</td>\n",
       "      <td>1.0000  ± 0.0014</td>\n",
       "      <td>0.0100  ± 0.0014</td>\n",
       "      <td>0.0019  ± 0.0007</td>\n",
       "      <td>35.5078  ± 10.1880</td>\n",
       "    </tr>\n",
       "    <tr>\n",
       "      <th>5</th>\n",
       "      <td>MM-adam-fix</td>\n",
       "      <td>1.0000  ± 2.1868</td>\n",
       "      <td>0.9982  ± 0.0038</td>\n",
       "      <td>0.0161  ± 0.0043</td>\n",
       "      <td>0.0126  ± 0.0035</td>\n",
       "      <td>26.7692  ± 10.0082</td>\n",
       "    </tr>\n",
       "    <tr>\n",
       "      <th>6</th>\n",
       "      <td>CoLiDe</td>\n",
       "      <td>30.5000  ± 14.1197</td>\n",
       "      <td>0.9523  ± 0.0201</td>\n",
       "      <td>0.0755  ± 0.0296</td>\n",
       "      <td>0.0003  ± 0.0000</td>\n",
       "      <td>55.4217  ± 27.7100</td>\n",
       "    </tr>\n",
       "    <tr>\n",
       "      <th>7</th>\n",
       "      <td>DAGMA</td>\n",
       "      <td>27.5000  ± 15.6481</td>\n",
       "      <td>0.9538  ± 0.0220</td>\n",
       "      <td>0.0765  ± 0.0293</td>\n",
       "      <td>1.0000  ± 0.0000</td>\n",
       "      <td>46.4685  ± 18.2213</td>\n",
       "    </tr>\n",
       "    <tr>\n",
       "      <th>8</th>\n",
       "      <td>NoTears</td>\n",
       "      <td>58.5000  ± 23.0570</td>\n",
       "      <td>0.9104  ± 0.0316</td>\n",
       "      <td>0.1504  ± 0.0538</td>\n",
       "      <td>1.0000  ± 0.0000</td>\n",
       "      <td>953.6134  ± 213.3939</td>\n",
       "    </tr>\n",
       "  </tbody>\n",
       "</table>\n",
       "</div>"
      ],
      "text/plain": [
       "           leg                 shd            fscore               err  \\\n",
       "0    PGD-FISTA  0.0000  ± 113.7663  1.0000  ± 0.1799  0.0125  ± 0.3455   \n",
       "1     PGD-Adam    0.0000  ± 0.5821  1.0000  ± 0.0013  0.0123  ± 0.0012   \n",
       "2           MM  16.0000  ± 68.9630  0.9743  ± 0.0842  0.0548  ± 0.1506   \n",
       "3     MM-FISTA   1.5000  ± 92.1041  0.9969  ± 0.1270  0.0127  ± 0.1895   \n",
       "4      MM-adam    0.0000  ± 0.7608  1.0000  ± 0.0014  0.0100  ± 0.0014   \n",
       "5  MM-adam-fix    1.0000  ± 2.1868  0.9982  ± 0.0038  0.0161  ± 0.0043   \n",
       "6       CoLiDe  30.5000  ± 14.1197  0.9523  ± 0.0201  0.0755  ± 0.0296   \n",
       "7        DAGMA  27.5000  ± 15.6481  0.9538  ± 0.0220  0.0765  ± 0.0293   \n",
       "8      NoTears  58.5000  ± 23.0570  0.9104  ± 0.0316  0.1504  ± 0.0538   \n",
       "\n",
       "               acyc                  time  \n",
       "0  1.5558  ± 0.4419      9.3453  ± 2.7243  \n",
       "1  1.6349  ± 0.2605     14.6472  ± 3.4132  \n",
       "2  0.0015  ± 0.0238  236.3029  ± 106.3629  \n",
       "3  0.0041  ± 0.2068    22.5085  ± 13.0354  \n",
       "4  0.0019  ± 0.0007    35.5078  ± 10.1880  \n",
       "5  0.0126  ± 0.0035    26.7692  ± 10.0082  \n",
       "6  0.0003  ± 0.0000    55.4217  ± 27.7100  \n",
       "7  1.0000  ± 0.0000    46.4685  ± 18.2213  \n",
       "8  1.0000  ± 0.0000  953.6134  ± 213.3939  "
      ]
     },
     "metadata": {},
     "output_type": "display_data"
    }
   ],
   "source": [
    "exps_leg = [exp['leg'] for exp in Exps]\n",
    "utils.display_results(exps_leg, metrics, agg='mean')\n",
    "utils.display_results(exps_leg, metrics, agg='median')"
   ]
  },
  {
   "cell_type": "code",
   "execution_count": null,
   "metadata": {},
   "outputs": [
    {
     "name": "stdout",
     "output_type": "stream",
     "text": [
      "CPUs employed: 32\n",
      "0: Fidelity: 99.166  -  Fidelity (norm): 83.547\n",
      "1: Fidelity: 99.166  -  Fidelity (norm): 74.474\n",
      "2: Fidelity: 99.166  -  Fidelity (norm): 86.251\n",
      "3: Fidelity: 99.166  -  Fidelity (norm): 79.338\n",
      "4: Fidelity: 99.166  -  Fidelity (norm): 94.518\n",
      "5: Fidelity: 99.166  -  Fidelity (norm): 74.226\n",
      "6: Fidelity: 99.166  -  Fidelity (norm): 82.351\n",
      "7: Fidelity: 99.166  -  Fidelity (norm): 85.536\n",
      "8: Fidelity: 99.166  -  Fidelity (norm): 85.159\n",
      "10: Fidelity: 99.166  -  Fidelity (norm): 86.291\n",
      "9: Fidelity: 99.166  -  Fidelity (norm): 78.503\n",
      "11: Fidelity: 99.166  -  Fidelity (norm): 78.843\n",
      "24: Fidelity: 100.084  -  Fidelity (norm): 83.375\n",
      "21: Fidelity: 100.867  -  Fidelity (norm): 74.127\n",
      "23: Fidelity: 100.550  -  Fidelity (norm): 97.654\n",
      "19: Fidelity: 100.058  -  Fidelity (norm): 71.361\n",
      "18: Fidelity: 100.548  -  Fidelity (norm): 98.949\n",
      "16: Fidelity: 99.614  -  Fidelity (norm): 83.142\n",
      "13: Fidelity: 100.605  -  Fidelity (norm): 73.057\n",
      "12: Fidelity: 100.169  -  Fidelity (norm): 86.856\n",
      "14: Fidelity: 100.474  -  Fidelity (norm): 82.387\n",
      "15: Fidelity: 100.897  -  Fidelity (norm): 77.255\n",
      "20: Fidelity: 99.218  -  Fidelity (norm): 83.148\n",
      "17: Fidelity: 100.748  -  Fidelity (norm): 75.956\n",
      "22: Fidelity: 100.159  -  Fidelity (norm): 69.164\n"
     ]
    },
    {
     "name": "stderr",
     "output_type": "stream",
     "text": [
      "  0%|          | 0/130000.0 [00:18<?, ?it/s]\n",
      "  0%|          | 0/130000.0 [00:18<?, ?it/s]\n",
      "  0%|          | 0/130000.0 [00:21<?, ?it/s]\n",
      "  0%|          | 0/130000.0 [00:20<?, ?it/s]\n",
      "  0%|          | 0/130000.0 [00:28<?, ?it/s]\n",
      "  0%|          | 0/130000.0 [00:34<?, ?it/s]\n",
      "  0%|          | 0/130000.0 [00:30<?, ?it/s]\n",
      "  0%|          | 0/130000.0 [00:33<?, ?it/s]\n",
      "  0%|          | 0/130000.0 [00:32<?, ?it/s]\n",
      "  0%|          | 0/130000.0 [00:32<?, ?it/s]\n",
      "  0%|          | 0/130000.0 [00:34<?, ?it/s]\n",
      "  0%|          | 0/130000.0 [00:37<?, ?it/s]\n",
      "  0%|          | 0/130000.0 [00:34<?, ?it/s]\n",
      "  0%|          | 0/130000.0 [00:34<?, ?it/s]\n",
      "  0%|          | 0/130000.0 [00:37<?, ?it/s]\n",
      "  0%|          | 0/130000.0 [00:39<?, ?it/s]\n",
      "  0%|          | 0/130000.0 [00:31<?, ?it/s]\n",
      "  0%|          | 0/130000.0 [00:35<?, ?it/s]\n",
      "  0%|          | 0/130000.0 [00:42<?, ?it/s]\n",
      "  0%|          | 0/130000.0 [00:43<?, ?it/s]\n",
      "  0%|          | 0/130000.0 [00:35<?, ?it/s]\n",
      "  0%|          | 0/130000.0 [00:41<?, ?it/s]\n",
      "  0%|          | 0/130000.0 [00:45<?, ?it/s]\n",
      "  0%|          | 0/130000.0 [00:31<?, ?it/s]\n",
      "  0%|          | 0/130000.0 [00:40<?, ?it/s]\n"
     ]
    },
    {
     "name": "stdout",
     "output_type": "stream",
     "text": [
      "----- Solved in 4.87e+02 seconds -----\n"
     ]
    }
   ],
   "source": [
    "###  1000 samples - 100 nodes  #####\n",
    "N = 100\n",
    "\n",
    "n_dags = 25\n",
    "data_params = {\n",
    "    'n_nodes': N,\n",
    "    'n_samples': 500, # 1000,\n",
    "    'graph_type': 'er',\n",
    "    'edges': 2*N,\n",
    "    'edge_type': 'positive',\n",
    "    'w_range': (.5, 1),\n",
    "    'var': 1,\n",
    "}\n",
    "\n",
    "print('CPUs employed:', N_CPUS)\n",
    "\n",
    "t_init = time.time()\n",
    "results = Parallel(n_jobs=N_CPUS)(delayed(run_exps)(g, data_params, Exps, thr=.2, verb=False) for g in range(n_dags))\n",
    "ellapsed_time = (time.time() - t_init)/60\n",
    "print(f'----- Solved in {ellapsed_time:.3f} minutes -----')\n",
    "\n",
    "# Extract results\n",
    "shd, fscore, err, acyc, runtime = zip(*results)\n",
    "metrics = {'shd': shd, 'fscore': fscore, 'err': err, 'acyc': acyc, 'time': runtime}\n"
   ]
  },
  {
   "cell_type": "code",
   "execution_count": null,
   "metadata": {},
   "outputs": [
    {
     "data": {
      "text/html": [
       "<div>\n",
       "<style scoped>\n",
       "    .dataframe tbody tr th:only-of-type {\n",
       "        vertical-align: middle;\n",
       "    }\n",
       "\n",
       "    .dataframe tbody tr th {\n",
       "        vertical-align: top;\n",
       "    }\n",
       "\n",
       "    .dataframe thead th {\n",
       "        text-align: right;\n",
       "    }\n",
       "</style>\n",
       "<table border=\"1\" class=\"dataframe\">\n",
       "  <thead>\n",
       "    <tr style=\"text-align: right;\">\n",
       "      <th></th>\n",
       "      <th>leg</th>\n",
       "      <th>shd</th>\n",
       "      <th>fscore</th>\n",
       "      <th>err</th>\n",
       "      <th>acyc</th>\n",
       "      <th>time</th>\n",
       "    </tr>\n",
       "  </thead>\n",
       "  <tbody>\n",
       "    <tr>\n",
       "      <th>0</th>\n",
       "      <td>PGD-FISTA</td>\n",
       "      <td>0.1600  ± 0.4630</td>\n",
       "      <td>0.9995  ± 0.0015</td>\n",
       "      <td>0.0210  ± 0.0084</td>\n",
       "      <td>0.7234  ± 0.3196</td>\n",
       "      <td>2.5151  ± 0.9965</td>\n",
       "    </tr>\n",
       "    <tr>\n",
       "      <th>1</th>\n",
       "      <td>PGD-Adam</td>\n",
       "      <td>0.3200  ± 0.6145</td>\n",
       "      <td>0.9986  ± 0.0027</td>\n",
       "      <td>0.0235  ± 0.0043</td>\n",
       "      <td>0.4926  ± 0.2934</td>\n",
       "      <td>2.5296  ± 0.7141</td>\n",
       "    </tr>\n",
       "    <tr>\n",
       "      <th>2</th>\n",
       "      <td>MM</td>\n",
       "      <td>0.2000  ± 0.5657</td>\n",
       "      <td>0.9992  ± 0.0023</td>\n",
       "      <td>0.0169  ± 0.0019</td>\n",
       "      <td>0.0072  ± 0.0009</td>\n",
       "      <td>72.5910  ± 10.2621</td>\n",
       "    </tr>\n",
       "    <tr>\n",
       "      <th>3</th>\n",
       "      <td>MM-FISTA</td>\n",
       "      <td>15.2000  ± 38.6937</td>\n",
       "      <td>0.9661  ± 0.0814</td>\n",
       "      <td>0.0685  ± 0.1323</td>\n",
       "      <td>0.0119  ± 0.0205</td>\n",
       "      <td>21.2054  ± 7.2162</td>\n",
       "    </tr>\n",
       "    <tr>\n",
       "      <th>4</th>\n",
       "      <td>MM-adam</td>\n",
       "      <td>0.7200  ± 2.0692</td>\n",
       "      <td>0.9975  ± 0.0062</td>\n",
       "      <td>0.0178  ± 0.0059</td>\n",
       "      <td>0.0052  ± 0.0007</td>\n",
       "      <td>17.7671  ± 3.9768</td>\n",
       "    </tr>\n",
       "    <tr>\n",
       "      <th>5</th>\n",
       "      <td>MM-adam-fix</td>\n",
       "      <td>2.1200  ± 2.8750</td>\n",
       "      <td>0.9914  ± 0.0085</td>\n",
       "      <td>0.0192  ± 0.0102</td>\n",
       "      <td>0.0084  ± 0.0012</td>\n",
       "      <td>15.1349  ± 3.2953</td>\n",
       "    </tr>\n",
       "    <tr>\n",
       "      <th>6</th>\n",
       "      <td>CoLiDe</td>\n",
       "      <td>6.1600  ± 4.2772</td>\n",
       "      <td>0.9783  ± 0.0133</td>\n",
       "      <td>0.0366  ± 0.0161</td>\n",
       "      <td>0.0001  ± 0.0000</td>\n",
       "      <td>33.4869  ± 7.2743</td>\n",
       "    </tr>\n",
       "    <tr>\n",
       "      <th>7</th>\n",
       "      <td>DAGMA</td>\n",
       "      <td>5.4400  ± 4.2622</td>\n",
       "      <td>0.9809  ± 0.0133</td>\n",
       "      <td>0.0348  ± 0.0160</td>\n",
       "      <td>1.0000  ± 0.0000</td>\n",
       "      <td>33.1552  ± 7.6967</td>\n",
       "    </tr>\n",
       "    <tr>\n",
       "      <th>8</th>\n",
       "      <td>NoTears</td>\n",
       "      <td>5.2000  ± 3.1241</td>\n",
       "      <td>0.9805  ± 0.0101</td>\n",
       "      <td>0.0330  ± 0.0149</td>\n",
       "      <td>1.0000  ± 0.0000</td>\n",
       "      <td>186.8967  ± 43.4586</td>\n",
       "    </tr>\n",
       "  </tbody>\n",
       "</table>\n",
       "</div>"
      ],
      "text/plain": [
       "           leg                 shd            fscore               err  \\\n",
       "0    PGD-FISTA    0.1600  ± 0.4630  0.9995  ± 0.0015  0.0210  ± 0.0084   \n",
       "1     PGD-Adam    0.3200  ± 0.6145  0.9986  ± 0.0027  0.0235  ± 0.0043   \n",
       "2           MM    0.2000  ± 0.5657  0.9992  ± 0.0023  0.0169  ± 0.0019   \n",
       "3     MM-FISTA  15.2000  ± 38.6937  0.9661  ± 0.0814  0.0685  ± 0.1323   \n",
       "4      MM-adam    0.7200  ± 2.0692  0.9975  ± 0.0062  0.0178  ± 0.0059   \n",
       "5  MM-adam-fix    2.1200  ± 2.8750  0.9914  ± 0.0085  0.0192  ± 0.0102   \n",
       "6       CoLiDe    6.1600  ± 4.2772  0.9783  ± 0.0133  0.0366  ± 0.0161   \n",
       "7        DAGMA    5.4400  ± 4.2622  0.9809  ± 0.0133  0.0348  ± 0.0160   \n",
       "8      NoTears    5.2000  ± 3.1241  0.9805  ± 0.0101  0.0330  ± 0.0149   \n",
       "\n",
       "               acyc                 time  \n",
       "0  0.7234  ± 0.3196     2.5151  ± 0.9965  \n",
       "1  0.4926  ± 0.2934     2.5296  ± 0.7141  \n",
       "2  0.0072  ± 0.0009   72.5910  ± 10.2621  \n",
       "3  0.0119  ± 0.0205    21.2054  ± 7.2162  \n",
       "4  0.0052  ± 0.0007    17.7671  ± 3.9768  \n",
       "5  0.0084  ± 0.0012    15.1349  ± 3.2953  \n",
       "6  0.0001  ± 0.0000    33.4869  ± 7.2743  \n",
       "7  1.0000  ± 0.0000    33.1552  ± 7.6967  \n",
       "8  1.0000  ± 0.0000  186.8967  ± 43.4586  "
      ]
     },
     "metadata": {},
     "output_type": "display_data"
    },
    {
     "data": {
      "text/html": [
       "<div>\n",
       "<style scoped>\n",
       "    .dataframe tbody tr th:only-of-type {\n",
       "        vertical-align: middle;\n",
       "    }\n",
       "\n",
       "    .dataframe tbody tr th {\n",
       "        vertical-align: top;\n",
       "    }\n",
       "\n",
       "    .dataframe thead th {\n",
       "        text-align: right;\n",
       "    }\n",
       "</style>\n",
       "<table border=\"1\" class=\"dataframe\">\n",
       "  <thead>\n",
       "    <tr style=\"text-align: right;\">\n",
       "      <th></th>\n",
       "      <th>leg</th>\n",
       "      <th>shd</th>\n",
       "      <th>fscore</th>\n",
       "      <th>err</th>\n",
       "      <th>acyc</th>\n",
       "      <th>time</th>\n",
       "    </tr>\n",
       "  </thead>\n",
       "  <tbody>\n",
       "    <tr>\n",
       "      <th>0</th>\n",
       "      <td>PGD-FISTA</td>\n",
       "      <td>0.0000  ± 0.4630</td>\n",
       "      <td>1.0000  ± 0.0015</td>\n",
       "      <td>0.0187  ± 0.0084</td>\n",
       "      <td>0.7474  ± 0.3196</td>\n",
       "      <td>2.0837  ± 0.9965</td>\n",
       "    </tr>\n",
       "    <tr>\n",
       "      <th>1</th>\n",
       "      <td>PGD-Adam</td>\n",
       "      <td>0.0000  ± 0.6145</td>\n",
       "      <td>1.0000  ± 0.0027</td>\n",
       "      <td>0.0233  ± 0.0043</td>\n",
       "      <td>0.5255  ± 0.2934</td>\n",
       "      <td>2.4221  ± 0.7141</td>\n",
       "    </tr>\n",
       "    <tr>\n",
       "      <th>2</th>\n",
       "      <td>MM</td>\n",
       "      <td>0.0000  ± 0.5657</td>\n",
       "      <td>1.0000  ± 0.0023</td>\n",
       "      <td>0.0166  ± 0.0019</td>\n",
       "      <td>0.0069  ± 0.0009</td>\n",
       "      <td>73.7634  ± 10.2621</td>\n",
       "    </tr>\n",
       "    <tr>\n",
       "      <th>3</th>\n",
       "      <td>MM-FISTA</td>\n",
       "      <td>0.0000  ± 38.6937</td>\n",
       "      <td>1.0000  ± 0.0814</td>\n",
       "      <td>0.0174  ± 0.1323</td>\n",
       "      <td>0.0062  ± 0.0205</td>\n",
       "      <td>19.5585  ± 7.2162</td>\n",
       "    </tr>\n",
       "    <tr>\n",
       "      <th>4</th>\n",
       "      <td>MM-adam</td>\n",
       "      <td>0.0000  ± 2.0692</td>\n",
       "      <td>1.0000  ± 0.0062</td>\n",
       "      <td>0.0161  ± 0.0059</td>\n",
       "      <td>0.0051  ± 0.0007</td>\n",
       "      <td>16.7323  ± 3.9768</td>\n",
       "    </tr>\n",
       "    <tr>\n",
       "      <th>5</th>\n",
       "      <td>MM-adam-fix</td>\n",
       "      <td>2.0000  ± 2.8750</td>\n",
       "      <td>0.9929  ± 0.0085</td>\n",
       "      <td>0.0147  ± 0.0102</td>\n",
       "      <td>0.0085  ± 0.0012</td>\n",
       "      <td>14.2340  ± 3.2953</td>\n",
       "    </tr>\n",
       "    <tr>\n",
       "      <th>6</th>\n",
       "      <td>CoLiDe</td>\n",
       "      <td>5.0000  ± 4.2772</td>\n",
       "      <td>0.9804  ± 0.0133</td>\n",
       "      <td>0.0356  ± 0.0161</td>\n",
       "      <td>0.0001  ± 0.0000</td>\n",
       "      <td>34.6268  ± 7.2743</td>\n",
       "    </tr>\n",
       "    <tr>\n",
       "      <th>7</th>\n",
       "      <td>DAGMA</td>\n",
       "      <td>4.0000  ± 4.2622</td>\n",
       "      <td>0.9839  ± 0.0133</td>\n",
       "      <td>0.0316  ± 0.0160</td>\n",
       "      <td>1.0000  ± 0.0000</td>\n",
       "      <td>33.5630  ± 7.6967</td>\n",
       "    </tr>\n",
       "    <tr>\n",
       "      <th>8</th>\n",
       "      <td>NoTears</td>\n",
       "      <td>5.0000  ± 3.1241</td>\n",
       "      <td>0.9822  ± 0.0101</td>\n",
       "      <td>0.0320  ± 0.0149</td>\n",
       "      <td>1.0000  ± 0.0000</td>\n",
       "      <td>185.9129  ± 43.4586</td>\n",
       "    </tr>\n",
       "  </tbody>\n",
       "</table>\n",
       "</div>"
      ],
      "text/plain": [
       "           leg                shd            fscore               err  \\\n",
       "0    PGD-FISTA   0.0000  ± 0.4630  1.0000  ± 0.0015  0.0187  ± 0.0084   \n",
       "1     PGD-Adam   0.0000  ± 0.6145  1.0000  ± 0.0027  0.0233  ± 0.0043   \n",
       "2           MM   0.0000  ± 0.5657  1.0000  ± 0.0023  0.0166  ± 0.0019   \n",
       "3     MM-FISTA  0.0000  ± 38.6937  1.0000  ± 0.0814  0.0174  ± 0.1323   \n",
       "4      MM-adam   0.0000  ± 2.0692  1.0000  ± 0.0062  0.0161  ± 0.0059   \n",
       "5  MM-adam-fix   2.0000  ± 2.8750  0.9929  ± 0.0085  0.0147  ± 0.0102   \n",
       "6       CoLiDe   5.0000  ± 4.2772  0.9804  ± 0.0133  0.0356  ± 0.0161   \n",
       "7        DAGMA   4.0000  ± 4.2622  0.9839  ± 0.0133  0.0316  ± 0.0160   \n",
       "8      NoTears   5.0000  ± 3.1241  0.9822  ± 0.0101  0.0320  ± 0.0149   \n",
       "\n",
       "               acyc                 time  \n",
       "0  0.7474  ± 0.3196     2.0837  ± 0.9965  \n",
       "1  0.5255  ± 0.2934     2.4221  ± 0.7141  \n",
       "2  0.0069  ± 0.0009   73.7634  ± 10.2621  \n",
       "3  0.0062  ± 0.0205    19.5585  ± 7.2162  \n",
       "4  0.0051  ± 0.0007    16.7323  ± 3.9768  \n",
       "5  0.0085  ± 0.0012    14.2340  ± 3.2953  \n",
       "6  0.0001  ± 0.0000    34.6268  ± 7.2743  \n",
       "7  1.0000  ± 0.0000    33.5630  ± 7.6967  \n",
       "8  1.0000  ± 0.0000  185.9129  ± 43.4586  "
      ]
     },
     "metadata": {},
     "output_type": "display_data"
    },
    {
     "data": {
      "text/html": [
       "<div>\n",
       "<style scoped>\n",
       "    .dataframe tbody tr th:only-of-type {\n",
       "        vertical-align: middle;\n",
       "    }\n",
       "\n",
       "    .dataframe tbody tr th {\n",
       "        vertical-align: top;\n",
       "    }\n",
       "\n",
       "    .dataframe thead th {\n",
       "        text-align: right;\n",
       "    }\n",
       "</style>\n",
       "<table border=\"1\" class=\"dataframe\">\n",
       "  <thead>\n",
       "    <tr style=\"text-align: right;\">\n",
       "      <th></th>\n",
       "      <th>leg</th>\n",
       "      <th>shd</th>\n",
       "      <th>fscore</th>\n",
       "      <th>err</th>\n",
       "      <th>acyc</th>\n",
       "      <th>time</th>\n",
       "    </tr>\n",
       "  </thead>\n",
       "  <tbody>\n",
       "    <tr>\n",
       "      <th>0</th>\n",
       "      <td>PGD-FISTA</td>\n",
       "      <td>0.1600  ± 0.4630</td>\n",
       "      <td>0.9995  ± 0.0015</td>\n",
       "      <td>0.0210  ± 0.0084</td>\n",
       "      <td>0.7234  ± 0.3196</td>\n",
       "      <td>2.5151  ± 0.9965</td>\n",
       "    </tr>\n",
       "    <tr>\n",
       "      <th>1</th>\n",
       "      <td>PGD-Adam</td>\n",
       "      <td>0.3200  ± 0.6145</td>\n",
       "      <td>0.9986  ± 0.0027</td>\n",
       "      <td>0.0235  ± 0.0043</td>\n",
       "      <td>0.4926  ± 0.2934</td>\n",
       "      <td>2.5296  ± 0.7141</td>\n",
       "    </tr>\n",
       "    <tr>\n",
       "      <th>2</th>\n",
       "      <td>MM</td>\n",
       "      <td>0.2000  ± 0.5657</td>\n",
       "      <td>0.9992  ± 0.0023</td>\n",
       "      <td>0.0169  ± 0.0019</td>\n",
       "      <td>0.0072  ± 0.0009</td>\n",
       "      <td>72.5910  ± 10.2621</td>\n",
       "    </tr>\n",
       "    <tr>\n",
       "      <th>3</th>\n",
       "      <td>MM-FISTA</td>\n",
       "      <td>15.2000  ± 38.6937</td>\n",
       "      <td>0.9661  ± 0.0814</td>\n",
       "      <td>0.0685  ± 0.1323</td>\n",
       "      <td>0.0119  ± 0.0205</td>\n",
       "      <td>21.2054  ± 7.2162</td>\n",
       "    </tr>\n",
       "    <tr>\n",
       "      <th>4</th>\n",
       "      <td>MM-adam</td>\n",
       "      <td>0.7200  ± 2.0692</td>\n",
       "      <td>0.9975  ± 0.0062</td>\n",
       "      <td>0.0178  ± 0.0059</td>\n",
       "      <td>0.0052  ± 0.0007</td>\n",
       "      <td>17.7671  ± 3.9768</td>\n",
       "    </tr>\n",
       "    <tr>\n",
       "      <th>5</th>\n",
       "      <td>MM-adam-fix</td>\n",
       "      <td>2.1200  ± 2.8750</td>\n",
       "      <td>0.9914  ± 0.0085</td>\n",
       "      <td>0.0192  ± 0.0102</td>\n",
       "      <td>0.0084  ± 0.0012</td>\n",
       "      <td>15.1349  ± 3.2953</td>\n",
       "    </tr>\n",
       "    <tr>\n",
       "      <th>6</th>\n",
       "      <td>CoLiDe</td>\n",
       "      <td>6.1600  ± 4.2772</td>\n",
       "      <td>0.9783  ± 0.0133</td>\n",
       "      <td>0.0366  ± 0.0161</td>\n",
       "      <td>0.0001  ± 0.0000</td>\n",
       "      <td>33.4869  ± 7.2743</td>\n",
       "    </tr>\n",
       "    <tr>\n",
       "      <th>7</th>\n",
       "      <td>DAGMA</td>\n",
       "      <td>5.4400  ± 4.2622</td>\n",
       "      <td>0.9809  ± 0.0133</td>\n",
       "      <td>0.0348  ± 0.0160</td>\n",
       "      <td>1.0000  ± 0.0000</td>\n",
       "      <td>33.1552  ± 7.6967</td>\n",
       "    </tr>\n",
       "    <tr>\n",
       "      <th>8</th>\n",
       "      <td>NoTears</td>\n",
       "      <td>5.2000  ± 3.1241</td>\n",
       "      <td>0.9805  ± 0.0101</td>\n",
       "      <td>0.0330  ± 0.0149</td>\n",
       "      <td>1.0000  ± 0.0000</td>\n",
       "      <td>186.8967  ± 43.4586</td>\n",
       "    </tr>\n",
       "  </tbody>\n",
       "</table>\n",
       "</div>"
      ],
      "text/plain": [
       "           leg                 shd            fscore               err  \\\n",
       "0    PGD-FISTA    0.1600  ± 0.4630  0.9995  ± 0.0015  0.0210  ± 0.0084   \n",
       "1     PGD-Adam    0.3200  ± 0.6145  0.9986  ± 0.0027  0.0235  ± 0.0043   \n",
       "2           MM    0.2000  ± 0.5657  0.9992  ± 0.0023  0.0169  ± 0.0019   \n",
       "3     MM-FISTA  15.2000  ± 38.6937  0.9661  ± 0.0814  0.0685  ± 0.1323   \n",
       "4      MM-adam    0.7200  ± 2.0692  0.9975  ± 0.0062  0.0178  ± 0.0059   \n",
       "5  MM-adam-fix    2.1200  ± 2.8750  0.9914  ± 0.0085  0.0192  ± 0.0102   \n",
       "6       CoLiDe    6.1600  ± 4.2772  0.9783  ± 0.0133  0.0366  ± 0.0161   \n",
       "7        DAGMA    5.4400  ± 4.2622  0.9809  ± 0.0133  0.0348  ± 0.0160   \n",
       "8      NoTears    5.2000  ± 3.1241  0.9805  ± 0.0101  0.0330  ± 0.0149   \n",
       "\n",
       "               acyc                 time  \n",
       "0  0.7234  ± 0.3196     2.5151  ± 0.9965  \n",
       "1  0.4926  ± 0.2934     2.5296  ± 0.7141  \n",
       "2  0.0072  ± 0.0009   72.5910  ± 10.2621  \n",
       "3  0.0119  ± 0.0205    21.2054  ± 7.2162  \n",
       "4  0.0052  ± 0.0007    17.7671  ± 3.9768  \n",
       "5  0.0084  ± 0.0012    15.1349  ± 3.2953  \n",
       "6  0.0001  ± 0.0000    33.4869  ± 7.2743  \n",
       "7  1.0000  ± 0.0000    33.1552  ± 7.6967  \n",
       "8  1.0000  ± 0.0000  186.8967  ± 43.4586  "
      ]
     },
     "metadata": {},
     "output_type": "display_data"
    }
   ],
   "source": [
    "# M = 1000\n",
    "exps_leg = [exp['leg'] for exp in Exps]\n",
    "utils.display_results(exps_leg, metrics, agg='mean')\n",
    "utils.display_results(exps_leg, metrics, agg='median')"
   ]
  }
 ],
 "metadata": {
  "kernelspec": {
   "display_name": ".venv",
   "language": "python",
   "name": "python3"
  },
  "language_info": {
   "codemirror_mode": {
    "name": "ipython",
    "version": 3
   },
   "file_extension": ".py",
   "mimetype": "text/x-python",
   "name": "python",
   "nbconvert_exporter": "python",
   "pygments_lexer": "ipython3",
   "version": "3.10.13"
  }
 },
 "nbformat": 4,
 "nbformat_minor": 2
}
